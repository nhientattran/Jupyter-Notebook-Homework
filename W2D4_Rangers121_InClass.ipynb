{
 "cells": [
  {
   "cell_type": "markdown",
   "metadata": {},
   "source": [
    "# User-Defined Functions & Scoping"
   ]
  },
  {
   "cell_type": "markdown",
   "metadata": {},
   "source": [
    "## Tasks Today:\n",
    "\n",
    "\n",
    "1) Functions <br>\n",
    " &nbsp;&nbsp;&nbsp;&nbsp; a) User-Defined vs. Built-In Functions <br>\n",
    " &nbsp;&nbsp;&nbsp;&nbsp; b) Accepting Parameters <br>\n",
    " &nbsp;&nbsp;&nbsp;&nbsp; c) Default Parameters <br>\n",
    " &nbsp;&nbsp;&nbsp;&nbsp; d) Making an Argument Optional <br>\n",
    " &nbsp;&nbsp;&nbsp;&nbsp; e) Keyword Arguments <br>\n",
    " &nbsp;&nbsp;&nbsp;&nbsp; f) Returning Values <br>\n",
    " &nbsp;&nbsp;&nbsp;&nbsp; g) *args <br>\n",
    " &nbsp;&nbsp;&nbsp;&nbsp; h) Docstring <br>\n",
    " &nbsp;&nbsp;&nbsp;&nbsp; i) Using a User Function in a Loop <br>\n",
    "2) Scope\n",
    "3) Creating more User-Defined functions "
   ]
  },
  {
   "cell_type": "markdown",
   "metadata": {},
   "source": [
    "\n",
    "## Functions"
   ]
  },
  {
   "cell_type": "markdown",
   "metadata": {},
   "source": [
    "##### User-Defined vs. Built-In Functions"
   ]
  },
  {
   "cell_type": "code",
   "execution_count": 5,
   "metadata": {},
   "outputs": [
    {
     "name": "stdout",
     "output_type": "stream",
     "text": [
      "Hello\n"
     ]
    }
   ],
   "source": [
    "# built in function\n",
    "#print(\"hello\")\n",
    "#len()\n",
    "#range\n",
    "#...\n",
    "\n",
    "def say_hello():\n",
    "    print(\"Hello\")\n",
    "    \n",
    "#always need parantheses at the end of a function call\n",
    "say_hello()"
   ]
  },
  {
   "cell_type": "markdown",
   "metadata": {},
   "source": [
    "##### Accepting Parameters"
   ]
  },
  {
   "cell_type": "code",
   "execution_count": 8,
   "metadata": {
    "scrolled": true
   },
   "outputs": [
    {
     "name": "stdout",
     "output_type": "stream",
     "text": [
      "Hello Nhien\n",
      "the loudly dog bark across the street\n"
     ]
    }
   ],
   "source": [
    "# elements passed into a function\n",
    "# variables to hold the place of items our function will act upon\n",
    "# order matters\n",
    "# a parameter can be of any object type (data type)\n",
    "# parameter when naming a function\n",
    "# argument when calling a function\n",
    "                    #parameter\n",
    "def say_hello(username):\n",
    "    print(f\"Hello {username}\")\n",
    "          #argument\n",
    "say_hello(\"Nhien\")\n",
    "\n",
    "def make_sentence(noun, verb, adjective):\n",
    "    print(f\"the {adjective} {noun} {verb} across the street\")\n",
    "    \n",
    "make_sentence('dog', 'bark', 'loudly')"
   ]
  },
  {
   "cell_type": "markdown",
   "metadata": {},
   "source": [
    "##### Default Parameters"
   ]
  },
  {
   "cell_type": "code",
   "execution_count": 13,
   "metadata": {},
   "outputs": [
    {
     "name": "stdout",
     "output_type": "stream",
     "text": [
      "The name is Bond... John Bond\n",
      "The name is Amstrong... John Amstrong\n"
     ]
    }
   ],
   "source": [
    "# default parameters must always come after non-default parameters at all times forever and ever...or else\n",
    "def agent_name(first_name, last_name = \"Bond\"):\n",
    "    print(f\"The name is {last_name}... {first_name} {last_name}\")\n",
    "\n",
    "agent_name(\"John\")\n",
    "agent_name(\"John\", \"Amstrong\")"
   ]
  },
  {
   "cell_type": "markdown",
   "metadata": {},
   "source": [
    "##### Making an Argument Optional"
   ]
  },
  {
   "cell_type": "code",
   "execution_count": 16,
   "metadata": {},
   "outputs": [
    {
     "name": "stdout",
     "output_type": "stream",
     "text": [
      "The horse's name is Mr.  Ed\n",
      "The horse's name is Billy The Pony\n"
     ]
    }
   ],
   "source": [
    "# default parameters must always come after non-default parameters at all times forever and ever...or else\n",
    "def print_horse_name(first, middle = \"\", last = \"Ed\"):\n",
    "    print(f\"The horse's name is {first} {middle} {last}\")\n",
    "\n",
    "print_horse_name(\"Mr.\")\n",
    "print_horse_name(\"Billy\", \"The\", \"Pony\")"
   ]
  },
  {
   "cell_type": "markdown",
   "metadata": {},
   "source": [
    "##### Keyword Arguments"
   ]
  },
  {
   "cell_type": "code",
   "execution_count": 18,
   "metadata": {
    "scrolled": true
   },
   "outputs": [
    {
     "name": "stdout",
     "output_type": "stream",
     "text": [
      "Wow there goes Peter Parker with their cool power of swing and i am pretty sure their secret identity is spider-man\n"
     ]
    }
   ],
   "source": [
    "#keyword arguments must follow positional arugments\n",
    "def show_hero(name, secret_identity, power = \"flying\"):\n",
    "    return f\"Wow there goes {name} with their cool power of {power} and i am pretty sure their secret identity is {secret_identity}\"\n",
    "\n",
    "print(show_hero(secret_identity = \"spider-man\", power = \"swing\", name = \"Peter Parker\"))"
   ]
  },
  {
   "cell_type": "code",
   "execution_count": 22,
   "metadata": {},
   "outputs": [
    {
     "name": "stdout",
     "output_type": "stream",
     "text": [
      "Here are some neat colors: yellow, red, and blue.\n"
     ]
    }
   ],
   "source": [
    "#keyword arguments must follow regular arguments\n",
    "my_fav = \"yellow\"\n",
    "def print_colors(color1, color2, color3):\n",
    "    return f\"Here are some neat colors: {color1}, {color2}, and {color3}.\"\n",
    "\n",
    "print(print_colors(my_fav, color3 = \"blue\", color2 = \"red\"))"
   ]
  },
  {
   "cell_type": "markdown",
   "metadata": {},
   "source": [
    "# Creating a start, stop, step function"
   ]
  },
  {
   "cell_type": "code",
   "execution_count": 27,
   "metadata": {
    "scrolled": true
   },
   "outputs": [
    {
     "name": "stdout",
     "output_type": "stream",
     "text": [
      "([0, 1, 4, 9, 16, 25, 36, 49, 64, 81, 100, 121, 144, 169, 196, 225, 256, 289, 324, 361], \"Hey great job, you're cute\")\n"
     ]
    }
   ],
   "source": [
    "def my_range(stop, start = 0, step = 1):\n",
    "    squared_nums = []\n",
    "    for i in range(start, stop, step):\n",
    "        squared_nums.append(i**2)\n",
    "    return squared_nums, \"Hey great job, you're cute\"\n",
    "print(my_range(20))"
   ]
  },
  {
   "cell_type": "markdown",
   "metadata": {},
   "source": [
    "##### Returning Values"
   ]
  },
  {
   "cell_type": "code",
   "execution_count": 32,
   "metadata": {},
   "outputs": [
    {
     "data": {
      "text/plain": [
       "'Bulba Bulba'"
      ]
     },
     "execution_count": 32,
     "metadata": {},
     "output_type": "execute_result"
    }
   ],
   "source": [
    "poke_list = [\"Charmander\", \"Squirtle\", \"Cyndaquil\", \"Chikorita\", \"Totodile\", \"Bulbasaur\"]\n",
    "def find_a_bulbasaur(arr):\n",
    "    for poke in arr:\n",
    "        if poke == \"Bulbasaur\":\n",
    "            return \"Bulba Bulba\"\n",
    "    return \"No Bubasaur :(\"\n",
    "\n",
    "find_a_bulbasaur(poke_list)"
   ]
  },
  {
   "cell_type": "code",
   "execution_count": 33,
   "metadata": {},
   "outputs": [
    {
     "data": {
      "text/plain": [
       "'You caught a Bulbasaur!'"
      ]
     },
     "execution_count": 33,
     "metadata": {},
     "output_type": "execute_result"
    }
   ],
   "source": [
    "def is_bulbasaur(string):\n",
    "    if string.lower() == \"bulba bulba\":\n",
    "        return \"You caught a Bulbasaur!\"\n",
    "    return \"Oh! The Bulbasaur appreared to be caught...\"\n",
    "\n",
    "is_bulbasaur(find_a_bulbasaur(poke_list))"
   ]
  },
  {
   "cell_type": "markdown",
   "metadata": {},
   "source": [
    "##### *args / **kwargs (keyword arguments)"
   ]
  },
  {
   "cell_type": "code",
   "execution_count": 43,
   "metadata": {},
   "outputs": [
    {
     "name": "stdout",
     "output_type": "stream",
     "text": [
      "These are my positional arguments: Lamp, Speaker, Alex\n",
      "\n",
      "Theese are my args: ('Cheetor', 'Mega Man', 'Mouse', 'Monitor', 'Bib Riss Drawing Game')\n",
      "\n",
      "Theese are my kargs:\n",
      "language python\n",
      "time very good\n",
      "weather hot\n"
     ]
    },
    {
     "data": {
      "text/plain": [
       "'That was a really nice time, thanks for the mmrs'"
      ]
     },
     "execution_count": 43,
     "metadata": {},
     "output_type": "execute_result"
    }
   ],
   "source": [
    "#*args, **kwargs\n",
    "# *args stands for arguments and will allow the function to take in any number of arguments\n",
    "# **kwargs stands for key word arguments and will allow the function to take in any number of keyword arguments\n",
    "# if other parameters are present, args and kwarfs must go last\n",
    "\n",
    "def print_args(pos_arg1, pos_arg2, pos_name, *args, **kwargs):\n",
    "    print(f\"These are my positional arguments: {pos_arg1}, {pos_arg2}, {pos_name}\")\n",
    "    print(f\"\\nTheese are my args: {args}\")\n",
    "    print(f\"\\nTheese are my kargs:\")\n",
    "    for key, value in kwargs.items():\n",
    "        print(key, value)\n",
    "    return \"That was a really nice time, thanks for the mmrs\"\n",
    "\n",
    "print_args(\"Lamp\", \"Speaker\", \"Alex\", \"Cheetor\", \"Mega Man\", \"Mouse\", \"Monitor\", \"Bib Riss Drawing Game\", language = \"python\", time = \"very good\", weather = \"hot\")"
   ]
  },
  {
   "cell_type": "code",
   "execution_count": 42,
   "metadata": {},
   "outputs": [
    {
     "name": "stdout",
     "output_type": "stream",
     "text": [
      "These are my positional arguments: Lamp, Speaker, Alex\n",
      "\n",
      "Theese are my args:\n",
      "Cheetor\n",
      "Mega Man\n",
      "Mouse\n",
      "Monitor\n",
      "Bib Riss Drawing Game\n",
      "\n",
      "Theese are my kargs:\n",
      "language python\n",
      "time very good\n",
      "weather hot\n"
     ]
    },
    {
     "data": {
      "text/plain": [
       "'That was a really nice time, thanks for the mmrs'"
      ]
     },
     "execution_count": 42,
     "metadata": {},
     "output_type": "execute_result"
    }
   ],
   "source": [
    "def print_args(pos_arg1, pos_arg2, pos_name, *args, **kwargs):\n",
    "    print(f\"These are my positional arguments: {pos_arg1}, {pos_arg2}, {pos_name}\")\n",
    "    print(f\"\\nTheese are my args:\")\n",
    "    for arg in args:\n",
    "        print(arg)\n",
    "    print(f\"\\nTheese are my kargs:\")\n",
    "    for key, value in kwargs.items():\n",
    "        print(key, value)\n",
    "    return \"That was a really nice time, thanks for the mmrs\"\n",
    "\n",
    "print_args(\"Lamp\", \"Speaker\", \"Alex\", \"Cheetor\", \"Mega Man\", \"Mouse\", \"Monitor\", \"Bib Riss Drawing Game\", language = \"python\", time = \"very good\", weather = \"hot\")"
   ]
  },
  {
   "cell_type": "markdown",
   "metadata": {},
   "source": [
    "##### Docstring"
   ]
  },
  {
   "cell_type": "code",
   "execution_count": 44,
   "metadata": {},
   "outputs": [
    {
     "name": "stdout",
     "output_type": "stream",
     "text": [
      "Alex\n",
      "Tinker\n",
      "Lina\n",
      "Rosa\n",
      "Zay\n",
      "\n",
      "    Here are the instructions for the function:\n",
      "    step 1: pass a list in as a parameter\n",
      "    step 2: ...profit?\n",
      "    \n"
     ]
    },
    {
     "data": {
      "text/plain": [
       "'Wow would ya just look at all those beautiful names!'"
      ]
     },
     "execution_count": 44,
     "metadata": {},
     "output_type": "execute_result"
    }
   ],
   "source": [
    "# docstrings are a really nice way to leave notes about funciontality in your code\n",
    "# provide instructions\n",
    "\n",
    "def print_name(arr):\n",
    "    \"\"\"\n",
    "    print_names(arr)\n",
    "    Function requires a list to be passed in as an argument\n",
    "    It will print the contents of the list that should be strings.\n",
    "    \"\"\"\n",
    "    #loop through list of names and print them\n",
    "    for name in arr:\n",
    "        print(name)\n",
    "        \n",
    "    print(\"\"\"\n",
    "    Here are the instructions for the function:\n",
    "    step 1: pass a list in as a parameter\n",
    "    step 2: ...profit?\n",
    "    \"\"\")\n",
    "    \n",
    "    return \"Wow would ya just look at all those beautiful names!\"\n",
    "\n",
    "print_name([\"Alex\", \"Tinker\", \"Lina\", \"Rosa\", \"Zay\"])"
   ]
  },
  {
   "cell_type": "markdown",
   "metadata": {},
   "source": [
    "##### Using a User Function in a Loop"
   ]
  },
  {
   "cell_type": "code",
   "execution_count": 53,
   "metadata": {},
   "outputs": [
    {
     "name": "stdout",
     "output_type": "stream",
     "text": [
      "What's going on?: nothing\n",
      "I say nothing\n",
      "Are you ready to quit?: no\n",
      "What's going on?: yea\n",
      "I say yea\n",
      "Are you ready to quit?: nope\n",
      "What's going on?: cazy\n",
      "I say cazy\n",
      "Are you ready to quit?: yes\n"
     ]
    }
   ],
   "source": [
    "def print_input(suggestion):\n",
    "    return f\"I say {suggestion}\"\n",
    "\n",
    "while True:\n",
    "        ask = input(\"What's going on?: \")\n",
    "          \n",
    "        print(print_input(ask))\n",
    "          \n",
    "        response = input(\"Are you ready to quit?: \")\n",
    "        if response.lower() == \"yes\":\n",
    "            break\n",
    "\n",
    "#print_input(\"Hello\")"
   ]
  },
  {
   "cell_type": "code",
   "execution_count": 54,
   "metadata": {},
   "outputs": [
    {
     "name": "stdout",
     "output_type": "stream",
     "text": [
      "whats going on?nothing\n",
      "Are you ready to quit?no\n",
      "whats going on?hehe\n",
      "Are you ready to quit?yes\n",
      "have a nice time\n"
     ]
    }
   ],
   "source": [
    "def print_input(suggestion):\n",
    "    return f\"I say heyeyeyeye{suggestion}\"\n",
    "    \n",
    "    \n",
    "    \n",
    "def take_suggestion(function):\n",
    "    \n",
    "    while True:\n",
    "        ask = input(\"whats going on?\")\n",
    "        \n",
    "        function(ask)\n",
    "        \n",
    "        response = input(\"Are you ready to quit?\")\n",
    "        if response.lower() == 'yes':\n",
    "            print(\"have a nice time\")\n",
    "            break\n",
    "        \n",
    "    return\n",
    "    \n",
    "take_suggestion(print_input)"
   ]
  },
  {
   "cell_type": "code",
   "execution_count": null,
   "metadata": {
    "scrolled": true
   },
   "outputs": [],
   "source": [
    "def add_to_cart():\n",
    "    item = input(\"What would you like to add?: \")\n",
    "    quantity = input(\"How many would you like to add?: \")\n",
    "    \n",
    "    store[item] = quatity"
   ]
  },
  {
   "cell_type": "markdown",
   "metadata": {},
   "source": [
    "## Function Exercises <br>\n",
    "### Exercise 1\n",
    "<p>Write a function that loops through a list of first_names and a list of last_names, combines the two and return a list of full_names</p>"
   ]
  },
  {
   "cell_type": "code",
   "execution_count": 80,
   "metadata": {},
   "outputs": [
    {
     "data": {
      "text/plain": [
       "['John Smith', 'Evan Smith', 'Jordan Williams', 'Max Bell']"
      ]
     },
     "execution_count": 80,
     "metadata": {},
     "output_type": "execute_result"
    }
   ],
   "source": [
    "first_name = ['John', 'Evan', 'Jordan', 'Max']\n",
    "last_name = ['Smith', 'Smith', 'Williams', 'Bell']\n",
    "\n",
    "def output_name(first, last):\n",
    "    output = []\n",
    "    for i in range(len(first)):\n",
    "            output.append(first[i] + \" \" + last[i])\n",
    "    return(output)\n",
    "\n",
    "output_name(first_name, last_name)\n",
    "# Output: ['John Smith', 'Evan Smith', 'Jordan Williams', 'Max Bell']\n"
   ]
  },
  {
   "cell_type": "markdown",
   "metadata": {},
   "source": [
    "### Exercise 2\n",
    "Create a function that alters all values in the given list by subtracting 5 and then doubling them."
   ]
  },
  {
   "cell_type": "code",
   "execution_count": 82,
   "metadata": {},
   "outputs": [
    {
     "name": "stdout",
     "output_type": "stream",
     "text": [
      "output = [0, 10, 20, 30, -4]\n"
     ]
    }
   ],
   "source": [
    "input_list = [5,10,15,20,3]\n",
    "# output = [0,10,20,30,-4]\n",
    "def ex_2(arr):\n",
    "    for i in range(len(arr)):\n",
    "        arr[i] = (arr[i]-5)*2\n",
    "    print(f\"output = {arr}\")\n",
    "\n",
    "ex_2(input_list)"
   ]
  },
  {
   "cell_type": "markdown",
   "metadata": {},
   "source": [
    "### Exercise 3\n",
    "Create a function that takes in a list of strings and filters out the strings that DO NOT contain vowels. "
   ]
  },
  {
   "cell_type": "code",
   "execution_count": 87,
   "metadata": {},
   "outputs": [
    {
     "data": {
      "text/plain": [
       "['Sheldon', 'Leonard', 'Amy']"
      ]
     },
     "execution_count": 87,
     "metadata": {},
     "output_type": "execute_result"
    }
   ],
   "source": [
    "string_list = ['Sheldon','Pnny','Leonard','Hwrd','Rj','Amy','Strt']\n",
    "# output = ['Sheldon','Leonard','Amy']\n",
    "def ex_3(arr):\n",
    "    vowels = [\"u\", \"e\", \"o\", \"a\", \"i\"]\n",
    "    new_list = []\n",
    "    for name in arr:\n",
    "        for vowel in vowels:\n",
    "            if vowel in name.lower():\n",
    "                new_list.append(name)\n",
    "                break\n",
    "    \n",
    "    return new_list\n",
    "            \n",
    "ex_3(string_list)\n",
    "    \n",
    "\n",
    "        \n"
   ]
  },
  {
   "cell_type": "markdown",
   "metadata": {},
   "source": [
    "### Exercise 4\n",
    "Create a function that accepts a list as a parameter and returns a dictionary containing the list items as it's keys, and the number of times they appear in the list as the values"
   ]
  },
  {
   "cell_type": "code",
   "execution_count": 88,
   "metadata": {},
   "outputs": [
    {
     "data": {
      "text/plain": [
       "{'Harry': 3, 'Hermione': 2, 'Ron': 4, 'Dobby': 1, 'Draco': 1, 'Luna': 1}"
      ]
     },
     "execution_count": 88,
     "metadata": {},
     "output_type": "execute_result"
    }
   ],
   "source": [
    "example_list = [\"Harry\", 'Hermione','Harry','Ron','Dobby','Draco','Luna','Harry','Hermione','Ron','Ron','Ron']\n",
    "\n",
    "# output = {\n",
    "#     \"Harry\":3,\n",
    "#     \"Hermione\":2,\n",
    "#     \"Ron\":4,\n",
    "#     \"Dobby\":1,\n",
    "#     \"Draco\":1,\n",
    "#     \"Luna\": 1\n",
    "# }\n",
    "\n",
    "def ex_4(arr):\n",
    "    students = {}\n",
    "    for i in arr:\n",
    "        if i not in students:\n",
    "            students[i] = 1\n",
    "        else:\n",
    "            students[i] += 1\n",
    "    return students\n",
    "\n",
    "ex_4(example_list)\n",
    "\n"
   ]
  },
  {
   "cell_type": "markdown",
   "metadata": {},
   "source": [
    "\n",
    "\n",
    "## Scope <br>\n",
    "<p>Scope refers to the ability to access variables, different types of scope include:<br>a) Global<br>b) Function (local)<br>c) Class (local)</p>"
   ]
  },
  {
   "cell_type": "code",
   "execution_count": 89,
   "metadata": {
    "scrolled": true
   },
   "outputs": [
    {
     "name": "stdout",
     "output_type": "stream",
     "text": [
      "3\n",
      "hello 3\n"
     ]
    }
   ],
   "source": [
    "# placement of variable declaration matters\n",
    "number = 3 #<-- global variable\n",
    "#it's not confined to a function or a class\n",
    "\n",
    "def print_num():\n",
    "    return number\n",
    "\n",
    "def say_hello_num():\n",
    "    return f\"hello {number}\"\n",
    "\n",
    "print(print_num())\n",
    "print(say_hello_num())"
   ]
  },
  {
   "cell_type": "code",
   "execution_count": 105,
   "metadata": {},
   "outputs": [
    {
     "data": {
      "text/plain": [
       "[1, 4, 9, 16]"
      ]
     },
     "execution_count": 105,
     "metadata": {},
     "output_type": "execute_result"
    }
   ],
   "source": [
    "def square_nums(arr):\n",
    "    squared_list = []\n",
    "    for num in arr:\n",
    "        squared_list.append(num**2)\n",
    "    return squared_list\n",
    "\n",
    "square_nums([1, 2, 3, 4])"
   ]
  },
  {
   "cell_type": "code",
   "execution_count": 98,
   "metadata": {},
   "outputs": [
    {
     "ename": "NameError",
     "evalue": "name 'KIND_OF_DOG' is not defined",
     "output_type": "error",
     "traceback": [
      "\u001b[1;31m---------------------------------------------------------------------------\u001b[0m",
      "\u001b[1;31mNameError\u001b[0m                                 Traceback (most recent call last)",
      "Cell \u001b[1;32mIn[98], line 8\u001b[0m\n\u001b[0;32m      5\u001b[0m         \u001b[38;5;28mself\u001b[39m\u001b[38;5;241m.\u001b[39mcolor \u001b[38;5;241m=\u001b[39m color\n\u001b[0;32m      6\u001b[0m         \u001b[38;5;28mself\u001b[39m\u001b[38;5;241m.\u001b[39mname \u001b[38;5;241m=\u001b[39m name\n\u001b[1;32m----> 8\u001b[0m \u001b[38;5;28mprint\u001b[39m(\u001b[43mKIND_OF_DOG\u001b[49m)\n",
      "\u001b[1;31mNameError\u001b[0m: name 'KIND_OF_DOG' is not defined"
     ]
    }
   ],
   "source": [
    "class Dog():\n",
    "    \n",
    "    KIND_OF_DOG = \"Corgi\"\n",
    "    def __init__(self, color, name):\n",
    "        self.color = color\n",
    "        self.name = name\n",
    "        \n",
    "print(KIND_OF_DOG)"
   ]
  },
  {
   "cell_type": "markdown",
   "metadata": {},
   "source": [
    "## Modules"
   ]
  },
  {
   "cell_type": "markdown",
   "metadata": {},
   "source": [
    "##### Importing Entire Modules\n"
   ]
  },
  {
   "cell_type": "code",
   "execution_count": 107,
   "metadata": {},
   "outputs": [
    {
     "name": "stdout",
     "output_type": "stream",
     "text": [
      "3\n",
      "3.141592653589793\n",
      "4\n"
     ]
    }
   ],
   "source": [
    "## Modules\n",
    "import math\n",
    "\n",
    "num = 5\n",
    "num = 2\n",
    "\n",
    "print(math.ceil(5/2))\n",
    "\n",
    "print(math.pi)\n",
    "\n",
    "print(math.ceil(math.pi))"
   ]
  },
  {
   "cell_type": "markdown",
   "metadata": {},
   "source": [
    "##### Importing Methods Only"
   ]
  },
  {
   "cell_type": "code",
   "execution_count": 109,
   "metadata": {},
   "outputs": [
    {
     "name": "stdout",
     "output_type": "stream",
     "text": [
      "3.141592653589793\n",
      "3\n",
      "4\n"
     ]
    }
   ],
   "source": [
    "# from xxx import yyy\n",
    "#from math import floor\n",
    "\n",
    "from math import floor, pi, ceil\n",
    "\n",
    "print(pi)\n",
    "print(floor(pi))\n",
    "print(ceil(pi))"
   ]
  },
  {
   "cell_type": "markdown",
   "metadata": {},
   "source": [
    "##### Using the 'as' Keyword"
   ]
  },
  {
   "cell_type": "code",
   "execution_count": 110,
   "metadata": {},
   "outputs": [
    {
     "name": "stdout",
     "output_type": "stream",
     "text": [
      "3.141592653589793\n",
      "3\n",
      "4\n"
     ]
    }
   ],
   "source": [
    "# from xxx import yyy as z\n",
    "from math import floor as f\n",
    "from math import pi as p\n",
    "from math import ceil as c\n",
    "\n",
    "print(p)\n",
    "print(f(p))\n",
    "print(c(p))"
   ]
  },
  {
   "cell_type": "markdown",
   "metadata": {},
   "source": [
    "##### Creating a Module"
   ]
  },
  {
   "cell_type": "code",
   "execution_count": 112,
   "metadata": {},
   "outputs": [
    {
     "name": "stdout",
     "output_type": "stream",
     "text": [
      "Hello Mr/Ms Nhien...we've been waiting for you!\n"
     ]
    }
   ],
   "source": [
    "from module import printName as pn\n",
    "\n",
    "pn(\"Nhien\")"
   ]
  },
  {
   "cell_type": "markdown",
   "metadata": {},
   "source": [
    "# Homework Exercises"
   ]
  },
  {
   "cell_type": "markdown",
   "metadata": {},
   "source": [
    "### 1) Create a Module in VS Code and Import It into jupyter notebook <br>\n",
    "<p><b>Module should have the following capabilities:</b><br><br>\n",
    "1a) Has a function to calculate the square footage of a house <br>\n",
    "    <b>Reminder of Formula: Length X Width == Area</b><br>\n",
    "        <hr>\n",
    "1b) Has a function to calculate the circumference of a circle 2 Pi r <br><br>\n",
    "<b>Program in Jupyter Notebook should take in user input and use imported functions to calculate a circle's circumference or a houses square footage</b>\n",
    "</p>"
   ]
  },
  {
   "cell_type": "code",
   "execution_count": 19,
   "metadata": {},
   "outputs": [
    {
     "data": {
      "text/plain": [
       "'The area of the house is 2000 square foot'"
      ]
     },
     "execution_count": 19,
     "metadata": {},
     "output_type": "execute_result"
    }
   ],
   "source": [
    "from W2D4_1a import square_footage as sf\n",
    "\n",
    "#1a)\n",
    "sf(50,40)"
   ]
  },
  {
   "cell_type": "code",
   "execution_count": 18,
   "metadata": {},
   "outputs": [
    {
     "data": {
      "text/plain": [
       "'The circumference of a circle is 94.24777960769379'"
      ]
     },
     "execution_count": 18,
     "metadata": {},
     "output_type": "execute_result"
    }
   ],
   "source": [
    "from W2D4_1b import cir_cir as cir\n",
    "\n",
    "#1b)\n",
    "cir(15)"
   ]
  },
  {
   "cell_type": "markdown",
   "metadata": {},
   "source": [
    "### 2) Build a Shopping Cart Function <br>\n",
    "<p><b>You can use either lists or dictionaries. The program should have the following capabilities:</b><br><br>\n",
    "1) Takes in input <br>\n",
    "2) Stores user input into a dictionary or list <br>\n",
    "3) The User can add or delete items <br>\n",
    "4) The User can see current shopping list <br>\n",
    "5) The program Loops until user 'quits' <br>\n",
    "6) Upon quiting the program, print out all items in the user's list <br>\n",
    "</p>"
   ]
  },
  {
   "cell_type": "code",
   "execution_count": 102,
   "metadata": {},
   "outputs": [
    {
     "name": "stdout",
     "output_type": "stream",
     "text": [
      "Enter items into your shopping cart: water water redbull\n",
      "Awesome! water water redbull have been added into your shopping cart\n",
      "Enter 'Add' to add more items into your cart, 'Delete' to delete items from your cart, 'Show' to see your current shopping list, or 'Quit' to quit:  fish meat b\n",
      "Enter 'Add' to add more items into your cart, 'Delete' to delete items from your cart, 'Show' to see your current shopping list, or 'Quit' to quit:  add\n",
      "Enter items that you want to add: fish meat beef\n",
      "Your shopping cart has been updated with fish meat beef\n",
      "Enter 'Add' to add more items into your cart, 'Delete' to delete items from your cart, 'Show' to see your current shopping list, or 'Quit' to quit:  delete\n",
      "Enter items that you want to delete: water\n",
      "water has been deleted from your cart\n",
      "Enter 'Add' to add more items into your cart, 'Delete' to delete items from your cart, 'Show' to see your current shopping list, or 'Quit' to quit:  quit\n",
      "Here is your shopping cart: {'water': 1, 'redbull': 1, 'fish': 1, 'meat': 1, 'beef': 1}\n"
     ]
    }
   ],
   "source": [
    "# Ask the user four bits of input: Do you want to : Show/Add/Delete or Quit?\n",
    "from IPython.display import clear_output\n",
    "\n",
    "def shopping_cart():\n",
    "    cart = {}\n",
    "    #step 1\n",
    "    item = input(\"Enter items into your shopping cart: \")\n",
    "    #step 2\n",
    "    for i in item.split():\n",
    "        if i not in cart:\n",
    "            cart[i] = 1\n",
    "        else:\n",
    "            cart[i] += 1\n",
    "    print(f\"Awesome! {item} have been added into your shopping cart\")\n",
    "    while True:\n",
    "        #step 3\n",
    "        choice = input(\"Enter 'Add' to add more items into your cart, 'Delete' to delete items from your cart, 'Show' to see your current shopping list, or 'Quit' to quit:  \")\n",
    "        if choice.lower() == \"add\":\n",
    "            item_2 = input(\"Enter items that you want to add: \")\n",
    "            for j in item_2.split():\n",
    "                if j not in cart:\n",
    "                    cart[j] = 1\n",
    "                else:\n",
    "                    cart[j] += 1\n",
    "            print(f\"Your shopping cart has been updated with {item_2}\")\n",
    "            continue\n",
    "        elif choice.lower() == \"delete\":\n",
    "            item_3 = input(\"Enter items that you want to delete: \")\n",
    "            for k in item_3.split():\n",
    "                if k not in cart:\n",
    "                    print(\"Sorry, those items are not in your cart\")\n",
    "                else:\n",
    "                    if cart[k] == 1:\n",
    "                        del cart[k]\n",
    "                    else:\n",
    "                        cart[k] -= 1   \n",
    "                    print(f\"{item_3} has been deleted from your cart\")\n",
    "            continue\n",
    "        #step 4\n",
    "        elif choice.lower() == \"show\":\n",
    "            print(\"Current shopping carts:\",\",\".join(cart.keys()))\n",
    "            continue\n",
    "        #step 5\n",
    "        elif choice.lower() == \"quit\":\n",
    "        #step 6\n",
    "            print(f\"Here is your shopping cart: {cart}\")\n",
    "            break\n",
    "        else:\n",
    "            continue\n",
    "        clear_output()\n",
    "\n",
    "shopping_cart()"
   ]
  }
 ],
 "metadata": {
  "kernelspec": {
   "display_name": "Python 3 (ipykernel)",
   "language": "python",
   "name": "python3"
  },
  "language_info": {
   "codemirror_mode": {
    "name": "ipython",
    "version": 3
   },
   "file_extension": ".py",
   "mimetype": "text/x-python",
   "name": "python",
   "nbconvert_exporter": "python",
   "pygments_lexer": "ipython3",
   "version": "3.11.3"
  }
 },
 "nbformat": 4,
 "nbformat_minor": 2
}

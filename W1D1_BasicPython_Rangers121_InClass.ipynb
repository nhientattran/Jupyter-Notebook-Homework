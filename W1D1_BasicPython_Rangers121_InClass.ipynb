{
 "cells": [
  {
   "cell_type": "markdown",
   "metadata": {},
   "source": [
    "# Week 2 - Monday Lesson (variable assignment, loops, lists)"
   ]
  },
  {
   "cell_type": "code",
   "execution_count": null,
   "metadata": {},
   "outputs": [],
   "source": []
  },
  {
   "cell_type": "markdown",
   "metadata": {},
   "source": [
    "## Tasks Today:\n",
    "\n",
    "1) Int & Float assignments <br>\n",
    " &nbsp;&nbsp;&nbsp;&nbsp; a) Assigning int <br>\n",
    " &nbsp;&nbsp;&nbsp;&nbsp; b) Assigning float <br>\n",
    " &nbsp;&nbsp;&nbsp;&nbsp; c) Performing Calculations on ints and floats <br>\n",
    " &nbsp;&nbsp;&nbsp;&nbsp;&nbsp;&nbsp;&nbsp;&nbsp; - Addition <br>\n",
    " &nbsp;&nbsp;&nbsp;&nbsp;&nbsp;&nbsp;&nbsp;&nbsp; - Subtraction <br>\n",
    " &nbsp;&nbsp;&nbsp;&nbsp;&nbsp;&nbsp;&nbsp;&nbsp; - Multiplication <br>\n",
    " &nbsp;&nbsp;&nbsp;&nbsp;&nbsp;&nbsp;&nbsp;&nbsp; - Division <br>\n",
    " &nbsp;&nbsp;&nbsp;&nbsp;&nbsp;&nbsp;&nbsp;&nbsp; - Floor Division <br>\n",
    " &nbsp;&nbsp;&nbsp;&nbsp;&nbsp;&nbsp;&nbsp;&nbsp; - Modulo <br>\n",
    " &nbsp;&nbsp;&nbsp;&nbsp;&nbsp;&nbsp;&nbsp;&nbsp; - Exponential <br>\n",
    "2) String Input-Output <br>\n",
    " &nbsp;&nbsp;&nbsp;&nbsp; a) String Assignment <br>\n",
    " &nbsp;&nbsp;&nbsp;&nbsp; b) print() <br>\n",
    " &nbsp;&nbsp;&nbsp;&nbsp; c) String Concatenation <br>\n",
    " &nbsp;&nbsp;&nbsp;&nbsp; d) Type Conversion <br>\n",
    " &nbsp;&nbsp;&nbsp;&nbsp; e) input() <br>\n",
    " &nbsp;&nbsp;&nbsp;&nbsp; f) format() <br>\n",
    " &nbsp;&nbsp;&nbsp;&nbsp; g) Old Way (python 2) <br>\n",
    "3) <b>In-Class Exercise #1</b> <br>\n",
    "4) If Statements <br>\n",
    " &nbsp;&nbsp;&nbsp;&nbsp; a) 'is' keyword <br>\n",
    " &nbsp;&nbsp;&nbsp;&nbsp; b) 'in' keyword <br>\n",
    " &nbsp;&nbsp;&nbsp;&nbsp; c) 'not in' keyword <br>\n",
    "5) <b>In-Class Exercise #2</b> <br>\n",
    "6) Elif Statements <br>\n",
    "7) Else Statements <br>\n",
    "8) <b>In-Class Exercise #3</b> <br>\n",
    "9) Built-In Functions <br>\n",
    "\n",
    " &nbsp;&nbsp;&nbsp;&nbsp; b) len() <br>\n",
    " &nbsp;&nbsp;&nbsp;&nbsp; c) help() <br>\n",
    " &nbsp;&nbsp;&nbsp;&nbsp; d) isinstance() <br>\n",
    " &nbsp;&nbsp;&nbsp;&nbsp; e) abs() <br>\n",
    "10) Try and Except <br>\n"
   ]
  },
  {
   "cell_type": "markdown",
   "metadata": {},
   "source": [
    "### Int & Float Assignments"
   ]
  },
  {
   "cell_type": "markdown",
   "metadata": {},
   "source": [
    "##### Assigning int"
   ]
  },
  {
   "cell_type": "code",
   "execution_count": 4,
   "metadata": {},
   "outputs": [
    {
     "name": "stdout",
     "output_type": "stream",
     "text": [
      "6\n",
      "21\n",
      "2\n",
      "2\n"
     ]
    }
   ],
   "source": [
    "number = 6\n",
    "print(number)\n",
    "\n",
    "num = 21\n",
    "print(num)\n",
    "\n",
    "x = 2\n",
    "y = 5\n",
    "print(x)\n",
    "print(2)"
   ]
  },
  {
   "cell_type": "markdown",
   "metadata": {},
   "source": [
    "##### Assigning float"
   ]
  },
  {
   "cell_type": "code",
   "execution_count": 7,
   "metadata": {},
   "outputs": [
    {
     "name": "stdout",
     "output_type": "stream",
     "text": [
      "3.14\n",
      "23.12312351328572\n"
     ]
    }
   ],
   "source": [
    "# float == decimal\n",
    "\n",
    "num_float = 3.14\n",
    "print(num_float)\n",
    "\n",
    "my_float = (23.12312351328571893672438563926)\n",
    "print(my_float)"
   ]
  },
  {
   "cell_type": "markdown",
   "metadata": {},
   "source": [
    "#### Performing Calculations on ints and floats"
   ]
  },
  {
   "cell_type": "markdown",
   "metadata": {},
   "source": [
    "##### Addition"
   ]
  },
  {
   "cell_type": "code",
   "execution_count": 10,
   "metadata": {},
   "outputs": [
    {
     "name": "stdout",
     "output_type": "stream",
     "text": [
      "8\n",
      "8\n",
      "18\n"
     ]
    }
   ],
   "source": [
    "num1 = 1 \n",
    "num2 = 7 \n",
    "print(num1 + num2)\n",
    "result = num1 + num2\n",
    "print(result)\n",
    "\n",
    "#short hand +=\n",
    "\n",
    "num3 = 10\n",
    "result += num3\n",
    "print(result)"
   ]
  },
  {
   "cell_type": "code",
   "execution_count": 12,
   "metadata": {},
   "outputs": [
    {
     "name": "stdout",
     "output_type": "stream",
     "text": [
      "3\n"
     ]
    }
   ],
   "source": [
    "num4 = 5\n",
    "num5 = 8\n",
    "num4 -= 2\n",
    "print(num4)"
   ]
  },
  {
   "cell_type": "markdown",
   "metadata": {},
   "source": [
    "##### Subtraction"
   ]
  },
  {
   "cell_type": "code",
   "execution_count": 14,
   "metadata": {},
   "outputs": [
    {
     "name": "stdout",
     "output_type": "stream",
     "text": [
      "5\n",
      "10\n"
     ]
    }
   ],
   "source": [
    "num4 = 10\n",
    "num5 = 15\n",
    "result = num5 - num4\n",
    "print(result)\n",
    "\n",
    "#shorthand -=\n",
    "num6 = -5\n",
    "result -= num6\n",
    "print(result)"
   ]
  },
  {
   "cell_type": "markdown",
   "metadata": {},
   "source": [
    "##### Multiplication"
   ]
  },
  {
   "cell_type": "code",
   "execution_count": 16,
   "metadata": {},
   "outputs": [
    {
     "name": "stdout",
     "output_type": "stream",
     "text": [
      "47.0\n",
      "94.0\n"
     ]
    }
   ],
   "source": [
    "num1 = 10\n",
    "num2 = 4.7\n",
    "product = num1 * num2\n",
    "print(product)\n",
    "\n",
    "num3 = 2\n",
    "product *= num3\n",
    "print(product)"
   ]
  },
  {
   "cell_type": "markdown",
   "metadata": {},
   "source": [
    "##### Division"
   ]
  },
  {
   "cell_type": "code",
   "execution_count": 18,
   "metadata": {},
   "outputs": [
    {
     "name": "stdout",
     "output_type": "stream",
     "text": [
      "5.0\n",
      "1.0\n"
     ]
    }
   ],
   "source": [
    "num1 = 45\n",
    "num2 = 9\n",
    "quotient = num1 / num2\n",
    "print(quotient)\n",
    "\n",
    "num3 = 5\n",
    "quotient /= num3\n",
    "print(quotient)"
   ]
  },
  {
   "cell_type": "markdown",
   "metadata": {},
   "source": [
    "##### Floor Division"
   ]
  },
  {
   "cell_type": "code",
   "execution_count": 20,
   "metadata": {},
   "outputs": [
    {
     "name": "stdout",
     "output_type": "stream",
     "text": [
      "2\n",
      "1\n"
     ]
    }
   ],
   "source": [
    "num1 = 5\n",
    "num2 = 2\n",
    "\n",
    "floored = num1//num2\n",
    "\n",
    "print(floored)\n",
    "\n",
    "num3 = 6\n",
    "num4 = 4\n",
    "\n",
    "num3 //= num4\n",
    "print(num3)"
   ]
  },
  {
   "cell_type": "markdown",
   "metadata": {},
   "source": [
    "##### Modulo"
   ]
  },
  {
   "cell_type": "code",
   "execution_count": 23,
   "metadata": {
    "scrolled": true
   },
   "outputs": [
    {
     "name": "stdout",
     "output_type": "stream",
     "text": [
      "even\n"
     ]
    }
   ],
   "source": [
    "num1 = 6\n",
    "if num1 %2 == 0:\n",
    "    print('even')\n",
    "else:\n",
    "    print('odd')"
   ]
  },
  {
   "cell_type": "code",
   "execution_count": 25,
   "metadata": {},
   "outputs": [
    {
     "name": "stdout",
     "output_type": "stream",
     "text": [
      "2\n",
      "3\n"
     ]
    }
   ],
   "source": [
    "num2 = 5\n",
    "num3 = 3\n",
    "\n",
    "remainder = num2 % num3\n",
    "print(remainder)\n",
    "\n",
    "num4 = 10\n",
    "num5 = 7\n",
    "num4 %= num5\n",
    "print(num4)"
   ]
  },
  {
   "cell_type": "markdown",
   "metadata": {},
   "source": [
    "##### Exponential"
   ]
  },
  {
   "cell_type": "code",
   "execution_count": 29,
   "metadata": {},
   "outputs": [
    {
     "name": "stdout",
     "output_type": "stream",
     "text": [
      "25\n",
      "19683\n",
      "19683\n"
     ]
    }
   ],
   "source": [
    "square = 5**2\n",
    "print(square)\n",
    "\n",
    "num1 = 9\n",
    "num2 = 3\n",
    "print(num2**num1)\n",
    "\n",
    "#shorthand\n",
    "num2 **= num1\n",
    "print(num2)"
   ]
  },
  {
   "cell_type": "markdown",
   "metadata": {},
   "source": [
    "### String Input-Output"
   ]
  },
  {
   "cell_type": "markdown",
   "metadata": {},
   "source": [
    "##### String Assignment"
   ]
  },
  {
   "cell_type": "code",
   "execution_count": 42,
   "metadata": {},
   "outputs": [
    {
     "name": "stdout",
     "output_type": "stream",
     "text": [
      "Ryan\n",
      "Golden Retriever\n"
     ]
    }
   ],
   "source": [
    "# strings are immutable so you can't change them\n",
    "\n",
    "name = 'Ryan'\n",
    "dog = 'Golden Retriever'\n",
    "print(name)\n",
    "print(dog)"
   ]
  },
  {
   "cell_type": "markdown",
   "metadata": {},
   "source": [
    "##### print() <br>\n",
    "<p>Don't forget about end=' '</p>"
   ]
  },
  {
   "cell_type": "code",
   "execution_count": 37,
   "metadata": {},
   "outputs": [
    {
     "name": "stdout",
     "output_type": "stream",
     "text": [
      "Hello, Ryan\n",
      "Full name: Ryan Rhoades\n"
     ]
    }
   ],
   "source": [
    "print(\"Hello,\", name)\n",
    "\n",
    "print(\"Full name:\", name,\"Rhoades\")"
   ]
  },
  {
   "cell_type": "markdown",
   "metadata": {},
   "source": [
    "##### String Concatenation"
   ]
  },
  {
   "cell_type": "code",
   "execution_count": 41,
   "metadata": {},
   "outputs": [
    {
     "name": "stdout",
     "output_type": "stream",
     "text": [
      "Luke Skywalker\n",
      "Luke Skywalker Jedi Master\n"
     ]
    }
   ],
   "source": [
    "first_name = \"Luke\"\n",
    "last_name = \"Skywalker\"\n",
    "\n",
    "full_name = first_name + \" \" + last_name\n",
    "\n",
    "print(full_name)\n",
    "\n",
    "full_name += \" \" + \"Jedi Master\"\n",
    "print(full_name)"
   ]
  },
  {
   "cell_type": "markdown",
   "metadata": {},
   "source": [
    "##### Type Conversion"
   ]
  },
  {
   "cell_type": "code",
   "execution_count": 43,
   "metadata": {
    "scrolled": true
   },
   "outputs": [
    {
     "name": "stdout",
     "output_type": "stream",
     "text": [
      "123\n",
      "<class 'str'>\n",
      "123\n",
      "<class 'int'>\n"
     ]
    }
   ],
   "source": [
    "# int()\n",
    "# float()\n",
    "# string()\n",
    "\n",
    "# not every string can be made into float or integer, but every integer or float can be made into a string\n",
    "\n",
    "name = \"Mega Man\"\n",
    "\n",
    "string_num = \"123\"\n",
    "\n",
    "print(string_num)\n",
    "print(type(string_num))\n",
    "\n",
    "int_num = int(string_num)\n",
    "print(int_num)\n",
    "print(type(int_num))"
   ]
  },
  {
   "cell_type": "code",
   "execution_count": 45,
   "metadata": {},
   "outputs": [
    {
     "name": "stdout",
     "output_type": "stream",
     "text": [
      "<class 'str'>\n",
      "<class 'float'>\n"
     ]
    }
   ],
   "source": [
    "num1 = 10\n",
    "float2 = 15.23\n",
    "\n",
    "new_num1 = str(num1)\n",
    "print(type(new_num1))\n",
    "\n",
    "another_float = float(num1)\n",
    "print(type(another_float))"
   ]
  },
  {
   "cell_type": "markdown",
   "metadata": {},
   "source": [
    "##### input()"
   ]
  },
  {
   "cell_type": "code",
   "execution_count": 47,
   "metadata": {},
   "outputs": [
    {
     "name": "stdout",
     "output_type": "stream",
     "text": [
      "What is your name?: 123\n",
      "Your name is:  123\n",
      "<class 'str'>\n",
      "Give me a number: 123\n",
      "123\n",
      "<class 'str'>\n"
     ]
    }
   ],
   "source": [
    "# input will always return a string\n",
    "\n",
    "# name = input(\"What is your name?: \")\n",
    "# print(\"Your name is: \",name)\n",
    "# print(type(name))\n",
    "\n",
    "# num = input(\"Give me a number: \")\n",
    "# print(num)\n",
    "# print(type(num))"
   ]
  },
  {
   "cell_type": "markdown",
   "metadata": {},
   "source": [
    "##### format()"
   ]
  },
  {
   "cell_type": "code",
   "execution_count": 50,
   "metadata": {},
   "outputs": [
    {
     "name": "stdout",
     "output_type": "stream",
     "text": [
      "How old are you?: 20\n",
      "What is your name?: abc\n",
      "You are 20 years old, abc and you are getting wiser!\n",
      "20 is a great time in life, great job, abc\n"
     ]
    }
   ],
   "source": [
    "age = int(input(\"How old are you?: \"))\n",
    "name = input(\"What is your name?: \")\n",
    "\n",
    "result_string = \"You are {} years old, {} and you are getting wiser!\".format(age, name)\n",
    "print(result_string)\n",
    "\n",
    "another_result = f\"{age} is a great time in life, great job, {name}\"\n",
    "print(another_result)"
   ]
  },
  {
   "cell_type": "markdown",
   "metadata": {},
   "source": [
    "##### Old Way (python 2)"
   ]
  },
  {
   "cell_type": "code",
   "execution_count": 108,
   "metadata": {},
   "outputs": [
    {
     "name": "stdout",
     "output_type": "stream",
     "text": [
      "You are 31 and you look great for your age!\n"
     ]
    }
   ],
   "source": []
  },
  {
   "cell_type": "markdown",
   "metadata": {},
   "source": [
    "# In-Class Exercise 1 <br>\n",
    "<p>Create a formatted statement that asks for a car's color, year, make, model and prints out the results</p>"
   ]
  },
  {
   "cell_type": "code",
   "execution_count": 52,
   "metadata": {},
   "outputs": [
    {
     "name": "stdout",
     "output_type": "stream",
     "text": [
      "What color is your car? red\n",
      "What year is your car? 2020\n",
      "What make is your car? toyota\n",
      "What model is your car? camry\n",
      "Your car is red toyota camry 2020\n"
     ]
    }
   ],
   "source": [
    "color = input(\"What color is your car? \")\n",
    "year = input(\"What year is your car? \")\n",
    "make = input(\"What make is your car? \")\n",
    "model = input(\"What model is your car? \")\n",
    "total = f\"Your car is {color} {make} {model} {year}\"\n",
    "print(total)"
   ]
  },
  {
   "cell_type": "markdown",
   "metadata": {},
   "source": [
    "### If Statements"
   ]
  },
  {
   "cell_type": "code",
   "execution_count": 56,
   "metadata": {},
   "outputs": [
    {
     "name": "stdout",
     "output_type": "stream",
     "text": [
      "yay\n",
      "alo ola\n"
     ]
    }
   ],
   "source": [
    "# Truth Tree\n",
    "# T && F = T\n",
    "# T && T = T\n",
    "# T // F = T\n",
    "# F // T = T\n",
    "# F // F = F\n",
    "\n",
    "#if\n",
    "#elif\n",
    "#else\n",
    "\n",
    "num1 = 6\n",
    "num2 = 6\n",
    "\n",
    "if num2 == num1:\n",
    "    print(\"yay\")\n",
    "elif num1 > num2:\n",
    "    print(\"Number 1 is larger\")\n",
    "elif num2 > num1:\n",
    "    print(\"Number 2 is larger\")\n",
    "else:\n",
    "    print(\"Yeah that's a number\")\n",
    "    \n",
    "shirt_color = \"black\"\n",
    "if shirt_color == \"blue\":\n",
    "    print(\"your shirt is blue\")\n",
    "elif shirt_color == \"black\":\n",
    "    print(\"alo ola\")\n",
    "else: \n",
    "    print(\"abcdyzxfa\")"
   ]
  },
  {
   "cell_type": "markdown",
   "metadata": {},
   "source": [
    "##### 'is' keyword"
   ]
  },
  {
   "cell_type": "code",
   "execution_count": 58,
   "metadata": {
    "scrolled": true
   },
   "outputs": [
    {
     "name": "stdout",
     "output_type": "stream",
     "text": [
      "super duper\n",
      "gao\n"
     ]
    }
   ],
   "source": [
    "num3 = 90\n",
    "\n",
    "if num3 == 90:\n",
    "    print(\"super duper\")\n",
    "\n",
    "num4 = 90\n",
    "if num3 is num4:\n",
    "    print(\"gao\")"
   ]
  },
  {
   "cell_type": "markdown",
   "metadata": {},
   "source": [
    "##### 'in' keyword"
   ]
  },
  {
   "cell_type": "code",
   "execution_count": 63,
   "metadata": {},
   "outputs": [
    {
     "name": "stdout",
     "output_type": "stream",
     "text": [
      "Beautiful\n"
     ]
    }
   ],
   "source": [
    "# check if a character is in a string\n",
    "char_name = \"Boba Fett\"\n",
    "if \"b\" in char_name.lower():\n",
    "    print(\"Beautiful\")\n",
    "else:\n",
    "    print(\"It's not here\")"
   ]
  },
  {
   "cell_type": "markdown",
   "metadata": {},
   "source": [
    "##### 'not in' keyword'"
   ]
  },
  {
   "cell_type": "code",
   "execution_count": 64,
   "metadata": {},
   "outputs": [
    {
     "name": "stdout",
     "output_type": "stream",
     "text": [
      "This is Sanic\n"
     ]
    }
   ],
   "source": [
    "sega_char = \"Sonic\"\n",
    "sega_char2 = \"Sanic\"\n",
    "\n",
    "if \"a\" not in sega_char2.lower():\n",
    "    print(\"This is Sonic\")\n",
    "else:\n",
    "    print(\"This is Sanic\")"
   ]
  },
  {
   "cell_type": "markdown",
   "metadata": {},
   "source": [
    "# In-Class Exercise 2 <br>\n",
    "<p>Ask user for input, check to see if the letter 'p' is in the input</p>\n",
    "<p>Check for case sensitivity</p>\n"
   ]
  },
  {
   "cell_type": "code",
   "execution_count": 66,
   "metadata": {},
   "outputs": [
    {
     "name": "stdout",
     "output_type": "stream",
     "text": [
      "Type something: qweqweqwp\n",
      "The text has 'p'\n"
     ]
    }
   ],
   "source": [
    "ask = input(\"Type something: \")\n",
    "if \"p\" in ask.lower():\n",
    "    print(\"The text has 'p'\")\n",
    "else:\n",
    "    print(\"The text has no 'p'\")"
   ]
  },
  {
   "cell_type": "code",
   "execution_count": 161,
   "metadata": {},
   "outputs": [
    {
     "name": "stdout",
     "output_type": "stream",
     "text": [
      "Enter you string: potatoes\n",
      "Sting has p letter init\n"
     ]
    }
   ],
   "source": [
    "ask_2 = input(\"Enter you string: \")\n",
    "if \"p\" in ask_2.lower():\n",
    "    print(\"Sting has p letter init\")\n",
    "else:\n",
    "    print(\"Sting has no p letter init\")"
   ]
  },
  {
   "cell_type": "code",
   "execution_count": 67,
   "metadata": {},
   "outputs": [
    {
     "name": "stdout",
     "output_type": "stream",
     "text": [
      "Give me a word: qweqwep\n",
      "Yep theres a '(p)' in that word\n"
     ]
    }
   ],
   "source": [
    "ask_3 = input(\"Give me a word: \")\n",
    "if \"p\" in ask_3.lower():\n",
    "    print(\"Yep theres a (p) in that word\")\n",
    "else:\n",
    "    print(\"Nope theres no (p) in that word\")"
   ]
  },
  {
   "cell_type": "code",
   "execution_count": 163,
   "metadata": {},
   "outputs": [
    {
     "name": "stdout",
     "output_type": "stream",
     "text": [
      "Hey you, enter a string: Percy\n",
      "Big P in here\n"
     ]
    }
   ],
   "source": [
    "ask_4 = input(\"Hey you, enter a string: \")\n",
    "if \"p\" in ask_4.lower():\n",
    "    print(\"Big P in here\")\n",
    "else:\n",
    "    print(\"Sting has no p letter init\")"
   ]
  },
  {
   "cell_type": "markdown",
   "metadata": {},
   "source": [
    "## Using 'and'/'or' with If Statements"
   ]
  },
  {
   "cell_type": "code",
   "execution_count": 76,
   "metadata": {},
   "outputs": [
    {
     "name": "stdout",
     "output_type": "stream",
     "text": [
      "True and True\n",
      "at least one of these statements is true\n"
     ]
    }
   ],
   "source": [
    "num1 = 15\n",
    "num2 = 3\n",
    "num3 = 10\n",
    "num4 = 3\n",
    "\n",
    "#if with and statement\n",
    "if num1/5 == num2 and num3 - 7 == num4:\n",
    "    print(\"True and True\")\n",
    "else:\n",
    "    print(\"one of the above statement is false\")\n",
    "    \n",
    "#if with or\n",
    "if num1 > num2 or num3 == num4:\n",
    "    print(\"at least one of these statements is true\")\n",
    "else:\n",
    "    print(\"Its all false\")"
   ]
  },
  {
   "cell_type": "markdown",
   "metadata": {},
   "source": [
    "### Elif Statements"
   ]
  },
  {
   "cell_type": "code",
   "execution_count": 78,
   "metadata": {},
   "outputs": [
    {
     "name": "stdout",
     "output_type": "stream",
     "text": [
      "nah\n"
     ]
    }
   ],
   "source": [
    "first_name = \"Bar\"\n",
    "\n",
    "if first_name == \"John\":\n",
    "    print(\"Hello John\")\n",
    "elif first_name == \"Cheetor\":\n",
    "    print(\"Hello Cheetor\")\n",
    "elif first_name == \"Bulbasaur\":\n",
    "    print(\"I choose you!\")\n",
    "else:\n",
    "    print(\"nah\")"
   ]
  },
  {
   "cell_type": "markdown",
   "metadata": {},
   "source": [
    "### Else Statements"
   ]
  },
  {
   "cell_type": "code",
   "execution_count": 79,
   "metadata": {},
   "outputs": [
    {
     "name": "stdout",
     "output_type": "stream",
     "text": [
      "The number is neither 15 or 20, it is 112\n"
     ]
    }
   ],
   "source": [
    "number = 112\n",
    "if number == 20:\n",
    "    print(number)\n",
    "elif number == 15:\n",
    "    print(number)\n",
    "else:\n",
    "    print(f\"The number is neither 15 or 20, it is {number}\")"
   ]
  },
  {
   "cell_type": "markdown",
   "metadata": {},
   "source": [
    "### String Manipulation"
   ]
  },
  {
   "cell_type": "markdown",
   "metadata": {},
   "source": [
    "#### .lstrip()"
   ]
  },
  {
   "cell_type": "code",
   "execution_count": 80,
   "metadata": {},
   "outputs": [
    {
     "name": "stdout",
     "output_type": "stream",
     "text": [
      "            Lando Calrissian\n",
      "Lando Calrissian\n"
     ]
    }
   ],
   "source": [
    "# our_string.lstrip()\n",
    "\n",
    "name = \"            Lando Calrissian\"\n",
    "print(name)\n",
    "print(name.lstrip())"
   ]
  },
  {
   "cell_type": "markdown",
   "metadata": {},
   "source": [
    "#### .rstrip()"
   ]
  },
  {
   "cell_type": "code",
   "execution_count": 83,
   "metadata": {},
   "outputs": [
    {
     "name": "stdout",
     "output_type": "stream",
     "text": [
      "stupid love          \n",
      "stupid love\n"
     ]
    }
   ],
   "source": [
    "#our_string.rstrip()\n",
    "\n",
    "name = \"stupid love          \"\n",
    "print(name)\n",
    "print(name.rstrip())"
   ]
  },
  {
   "cell_type": "markdown",
   "metadata": {},
   "source": [
    "#### .strip()"
   ]
  },
  {
   "cell_type": "code",
   "execution_count": 84,
   "metadata": {},
   "outputs": [
    {
     "name": "stdout",
     "output_type": "stream",
     "text": [
      "         Mah Name          \n",
      "Mah Name\n"
     ]
    }
   ],
   "source": [
    "#our.string.strip()\n",
    "\n",
    "name = \"         Mah Name          \"\n",
    "print(name)\n",
    "print(name.strip())"
   ]
  },
  {
   "cell_type": "code",
   "execution_count": 90,
   "metadata": {},
   "outputs": [
    {
     "name": "stdout",
     "output_type": "stream",
     "text": [
      "           Crazy Love            \n",
      "Stupid Love\n",
      "Don\n"
     ]
    }
   ],
   "source": [
    "# .replace let you replace an item with different item\n",
    "\n",
    "name = \"           Crazy Love            \"\n",
    "name_2 = name.replace(\"Crazy\", \"Stupid\", 1)\n",
    "name_2 = name_2.strip()\n",
    "print(name)\n",
    "print(name_2)\n",
    "\n",
    "name_3 = \";;;;;;;;;;;;;;;;;;;;Don\"\n",
    "name_4 = name_3.replace(\";\",\"\")\n",
    "print(name_4)"
   ]
  },
  {
   "cell_type": "markdown",
   "metadata": {},
   "source": [
    "#### .title()"
   ]
  },
  {
   "cell_type": "code",
   "execution_count": 89,
   "metadata": {},
   "outputs": [
    {
     "name": "stdout",
     "output_type": "stream",
     "text": [
      "Nhien Tran\n"
     ]
    }
   ],
   "source": [
    "name = \"nhien tran\"\n",
    "name_2 = name.title()\n",
    "print(name_2)"
   ]
  },
  {
   "cell_type": "markdown",
   "metadata": {},
   "source": [
    "#### .upper()"
   ]
  },
  {
   "cell_type": "code",
   "execution_count": 91,
   "metadata": {},
   "outputs": [
    {
     "name": "stdout",
     "output_type": "stream",
     "text": [
      "NHIEN TRAN\n"
     ]
    }
   ],
   "source": [
    "name = \"nhien tran\"\n",
    "name_2 = name.upper()\n",
    "print(name_2)"
   ]
  },
  {
   "cell_type": "markdown",
   "metadata": {},
   "source": [
    "#### .lower()"
   ]
  },
  {
   "cell_type": "code",
   "execution_count": 92,
   "metadata": {
    "scrolled": true
   },
   "outputs": [
    {
     "name": "stdout",
     "output_type": "stream",
     "text": [
      "nhien tran\n"
     ]
    }
   ],
   "source": [
    "name = \"NHIEN TRAN\"\n",
    "name_2 = name.lower()\n",
    "print(name_2)"
   ]
  },
  {
   "cell_type": "markdown",
   "metadata": {},
   "source": [
    "### String Exercise"
   ]
  },
  {
   "cell_type": "markdown",
   "metadata": {},
   "source": [
    "Have a user input a sentence. Return the name with all white space removed and each first letter capitalized."
   ]
  },
  {
   "cell_type": "code",
   "execution_count": 94,
   "metadata": {},
   "outputs": [
    {
     "name": "stdout",
     "output_type": "stream",
     "text": [
      "What is your first name?: an\n",
      "What is your last name?: lu\n",
      "Your name is An Lu\n"
     ]
    }
   ],
   "source": [
    "first = input(\"What is your first name?: \")\n",
    "last = input(\"What is your last name?: \")\n",
    "full = first +\" \"+ last\n",
    "full = full.strip().title()\n",
    "print(f\"Your name is {full}\")"
   ]
  },
  {
   "cell_type": "code",
   "execution_count": 97,
   "metadata": {},
   "outputs": [
    {
     "name": "stdout",
     "output_type": "stream",
     "text": [
      "Enter a name:                 an luu          \n",
      "Your name is An Luu\n"
     ]
    }
   ],
   "source": [
    "first = input(\"Enter a name: \")\n",
    "full = first.strip().title()\n",
    "print(f\"Your name is {full}\")"
   ]
  },
  {
   "cell_type": "code",
   "execution_count": 99,
   "metadata": {},
   "outputs": [
    {
     "name": "stdout",
     "output_type": "stream",
     "text": [
      "Enter your name: gascia\n",
      "Your name is Gascia\n"
     ]
    }
   ],
   "source": [
    "first = input(\"Enter your name: \")\n",
    "full = first.strip().title()\n",
    "print(f\"Your name is {full}\")"
   ]
  },
  {
   "cell_type": "code",
   "execution_count": 101,
   "metadata": {},
   "outputs": [
    {
     "name": "stdout",
     "output_type": "stream",
     "text": [
      "What is your name?: anh luu thi tu\n",
      "Your name is Anh Luu Thi Tu\n"
     ]
    }
   ],
   "source": [
    "first = input(\"What is your name?: \")\n",
    "full = first.strip().title()\n",
    "print(f\"Your name is {full}\")"
   ]
  },
  {
   "cell_type": "markdown",
   "metadata": {},
   "source": [
    "### Built-In Functions"
   ]
  },
  {
   "cell_type": "markdown",
   "metadata": {},
   "source": [
    "##### len()"
   ]
  },
  {
   "cell_type": "code",
   "execution_count": 102,
   "metadata": {},
   "outputs": [
    {
     "name": "stdout",
     "output_type": "stream",
     "text": [
      "3\n",
      "3\n",
      "6\n"
     ]
    }
   ],
   "source": [
    "name = \"Max\"\n",
    "\n",
    "print(len(name))\n",
    "\n",
    "length_of_name = len(name)\n",
    "\n",
    "print(length_of_name)\n",
    "\n",
    "my_list = [1, 2, 3, 4, 5, 6]\n",
    "print(len(my_list))"
   ]
  },
  {
   "cell_type": "markdown",
   "metadata": {},
   "source": [
    "##### help()"
   ]
  },
  {
   "cell_type": "code",
   "execution_count": 218,
   "metadata": {},
   "outputs": [
    {
     "name": "stdout",
     "output_type": "stream",
     "text": [
      "Help on built-in function len in module builtins:\n",
      "\n",
      "len(obj, /)\n",
      "    Return the number of items in a container.\n",
      "\n",
      "Help on built-in function print in module builtins:\n",
      "\n",
      "print(...)\n",
      "    print(value, ..., sep=' ', end='\\n', file=sys.stdout, flush=False)\n",
      "    \n",
      "    Prints the values to a stream, or to sys.stdout by default.\n",
      "    Optional keyword arguments:\n",
      "    file:  a file-like object (stream); defaults to the current sys.stdout.\n",
      "    sep:   string inserted between values, default a space.\n",
      "    end:   string appended after the last value, default a newline.\n",
      "    flush: whether to forcibly flush the stream.\n",
      "\n",
      "Help on built-in function max in module builtins:\n",
      "\n",
      "max(...)\n",
      "    max(iterable, *[, default=obj, key=func]) -> value\n",
      "    max(arg1, arg2, *args, *[, key=func]) -> value\n",
      "    \n",
      "    With a single iterable argument, return its biggest item. The\n",
      "    default keyword-only argument specifies an object to return if\n",
      "    the provided iterable is empty.\n",
      "    With two or more arguments, return the largest argument.\n",
      "\n"
     ]
    }
   ],
   "source": []
  },
  {
   "cell_type": "markdown",
   "metadata": {},
   "source": [
    "##### isinstance()"
   ]
  },
  {
   "cell_type": "code",
   "execution_count": 107,
   "metadata": {},
   "outputs": [
    {
     "name": "stdout",
     "output_type": "stream",
     "text": [
      "<class 'str'>\n",
      "False\n"
     ]
    }
   ],
   "source": [
    "# check a variable to find out what Object family (data type) it belongs to\n",
    "\n",
    "a = \"4\"\n",
    "print(type(a))\n",
    "print(isinstance(a, int))"
   ]
  },
  {
   "cell_type": "code",
   "execution_count": 237,
   "metadata": {},
   "outputs": [
    {
     "name": "stdout",
     "output_type": "stream",
     "text": [
      "<class 'str'>\n",
      "True\n"
     ]
    }
   ],
   "source": []
  },
  {
   "cell_type": "code",
   "execution_count": 240,
   "metadata": {},
   "outputs": [
    {
     "name": "stdout",
     "output_type": "stream",
     "text": [
      "False\n"
     ]
    }
   ],
   "source": []
  },
  {
   "cell_type": "code",
   "execution_count": null,
   "metadata": {},
   "outputs": [],
   "source": []
  },
  {
   "cell_type": "markdown",
   "metadata": {},
   "source": [
    "##### abs()"
   ]
  },
  {
   "cell_type": "code",
   "execution_count": 108,
   "metadata": {},
   "outputs": [
    {
     "name": "stdout",
     "output_type": "stream",
     "text": [
      "5\n",
      "20\n"
     ]
    }
   ],
   "source": [
    "print(abs(-5))\n",
    "\n",
    "print(abs(-5-15))"
   ]
  },
  {
   "cell_type": "markdown",
   "metadata": {},
   "source": [
    "### Try and Except"
   ]
  },
  {
   "cell_type": "code",
   "execution_count": 112,
   "metadata": {},
   "outputs": [
    {
     "name": "stdout",
     "output_type": "stream",
     "text": [
      "How old are you? 20\n",
      "Happy Birthday, you were 20 and now you are 21\n"
     ]
    }
   ],
   "source": [
    "#use this whenever you expect encounter a bug so that the error doesn't cause the program to stop\n",
    "#logging graceful error messages to gently nuge the user in the right direction\n",
    "\n",
    "try:\n",
    "    age = int(input(\"How old are you? \"))\n",
    "    print(f\"Happy Birthday, you were {age} and now you are {age+1}\")\n",
    "except:\n",
    "    print(\"Please enter a number, not text\")"
   ]
  },
  {
   "cell_type": "code",
   "execution_count": 243,
   "metadata": {},
   "outputs": [
    {
     "name": "stdout",
     "output_type": "stream",
     "text": [
      "How old are you? sdfg\n"
     ]
    },
    {
     "ename": "ValueError",
     "evalue": "invalid literal for int() with base 10: 'sdfg'",
     "output_type": "error",
     "traceback": [
      "\u001b[1;31m---------------------------------------------------------------------------\u001b[0m",
      "\u001b[1;31mValueError\u001b[0m                                Traceback (most recent call last)",
      "Input \u001b[1;32mIn [243]\u001b[0m, in \u001b[0;36m<cell line: 1>\u001b[1;34m()\u001b[0m\n\u001b[1;32m----> 1\u001b[0m age \u001b[38;5;241m=\u001b[39m \u001b[38;5;28;43mint\u001b[39;49m\u001b[43m(\u001b[49m\u001b[38;5;28;43minput\u001b[39;49m\u001b[43m(\u001b[49m\u001b[38;5;124;43m\"\u001b[39;49m\u001b[38;5;124;43mHow old are you? \u001b[39;49m\u001b[38;5;124;43m\"\u001b[39;49m\u001b[43m)\u001b[49m\u001b[43m)\u001b[49m\n\u001b[0;32m      2\u001b[0m \u001b[38;5;28mprint\u001b[39m(\u001b[38;5;124mf\u001b[39m\u001b[38;5;124m\"\u001b[39m\u001b[38;5;124mHappy Birthday you were \u001b[39m\u001b[38;5;132;01m{\u001b[39;00mage\u001b[38;5;132;01m}\u001b[39;00m\u001b[38;5;124m and now you are \u001b[39m\u001b[38;5;132;01m{\u001b[39;00mage \u001b[38;5;241m+\u001b[39m \u001b[38;5;241m1\u001b[39m\u001b[38;5;132;01m}\u001b[39;00m\u001b[38;5;124m\"\u001b[39m)\n",
      "\u001b[1;31mValueError\u001b[0m: invalid literal for int() with base 10: 'sdfg'"
     ]
    }
   ],
   "source": []
  },
  {
   "cell_type": "markdown",
   "metadata": {},
   "source": [
    "## Exercise #1 <br>\n",
    "<p>Accept two user ages as inputs and give us the difference between them. (The Answer should always be a positive output)</p>"
   ]
  },
  {
   "cell_type": "code",
   "execution_count": 6,
   "metadata": {},
   "outputs": [
    {
     "name": "stdout",
     "output_type": "stream",
     "text": [
      "How old are you?: 14\n",
      "How old is your partner?: 18\n",
      "The difference is 4\n"
     ]
    }
   ],
   "source": [
    "int_1 = int(input('How old are you?: '))\n",
    "int_2 = int(input('How old is your partner?: '))\n",
    "print(\"The difference is\",abs(int_1 - int_2))"
   ]
  },
  {
   "cell_type": "markdown",
   "metadata": {},
   "source": [
    "## Exercise #2 \n",
    "<p>Accept 3 user inputs for variables named noun, verb and adjective. Print out a formatted string using the outputs.</p>"
   ]
  },
  {
   "cell_type": "code",
   "execution_count": 1,
   "metadata": {},
   "outputs": [
    {
     "name": "stdout",
     "output_type": "stream",
     "text": [
      "Enter a noun: tree\n",
      "Enter a verb: run\n",
      "Enter a adjective: fast\n",
      "The output is 'tree run fast'\n"
     ]
    }
   ],
   "source": [
    "noun = input(\"Enter a noun: \").strip()\n",
    "verb = input(\"Enter a verb: \").strip()\n",
    "adjective = input(\"Enter a adjective: \").strip()\n",
    "print(f\"The output is '{noun} {verb} {adjective}'\")"
   ]
  },
  {
   "cell_type": "markdown",
   "metadata": {},
   "source": [
    "## Exercise #3 <br>\n",
    "<p>Take in a users input for their age, if they are younger than 18 print kids, if they're 18 to 65 print adults, else print seniors</p>"
   ]
  },
  {
   "cell_type": "code",
   "execution_count": 1,
   "metadata": {},
   "outputs": [
    {
     "name": "stdout",
     "output_type": "stream",
     "text": [
      "Enter your age: 19\n",
      "adults\n"
     ]
    }
   ],
   "source": [
    "age = int(input(\"Enter your age: \"))\n",
    "if age < 18:\n",
    "    print(\"kids\")\n",
    "elif 18 < age < 65:\n",
    "    print(\"adults\")\n",
    "else:\n",
    "    print(\"seniors\")"
   ]
  },
  {
   "cell_type": "markdown",
   "metadata": {},
   "source": [
    "## Exercise #4\n",
    "<p>Take in a number from a user input, output the number squared.</p>"
   ]
  },
  {
   "cell_type": "code",
   "execution_count": 3,
   "metadata": {},
   "outputs": [
    {
     "name": "stdout",
     "output_type": "stream",
     "text": [
      "Enter a number: 9\n",
      "The number squared is 81\n"
     ]
    }
   ],
   "source": [
    "num = int(input(\"Enter a number: \"))\n",
    "print(\"The number squared is\",num**2)"
   ]
  },
  {
   "cell_type": "markdown",
   "metadata": {},
   "source": [
    "## Exercise #5\n",
    "<p>Check the below variables' length. If the length of the word is greater than 5 output True, if it is less than 5, output False<p>\n"
   ]
  },
  {
   "cell_type": "code",
   "execution_count": 8,
   "metadata": {},
   "outputs": [
    {
     "name": "stdout",
     "output_type": "stream",
     "text": [
      "True\n",
      "True\n",
      "False\n",
      "True\n",
      "False\n"
     ]
    }
   ],
   "source": [
    "word1 = \"panini\"\n",
    "word2 = \"bulbasaur\"\n",
    "word3 = \"pie\"\n",
    "word4 = \"dolphin\"\n",
    "word5 = \"dog\"\n",
    "\n",
    "if len(word1) > 5:\n",
    "    print(\"True\")\n",
    "else:\n",
    "    print(\"False\")\n",
    "if len(word2) > 5:\n",
    "    print(\"True\")\n",
    "else:\n",
    "    print(\"False\")\n",
    "if len(word3) > 5:\n",
    "    print(\"True\")\n",
    "else:\n",
    "    print(\"False\")\n",
    "if len(word4) > 5:\n",
    "    print(\"True\")\n",
    "else:\n",
    "    print(\"False\")\n",
    "if len(word5) > 5:\n",
    "    print(\"True\")\n",
    "else:\n",
    "    print(\"False\")"
   ]
  }
 ],
 "metadata": {
  "kernelspec": {
   "display_name": "Python 3 (ipykernel)",
   "language": "python",
   "name": "python3"
  },
  "language_info": {
   "codemirror_mode": {
    "name": "ipython",
    "version": 3
   },
   "file_extension": ".py",
   "mimetype": "text/x-python",
   "name": "python",
   "nbconvert_exporter": "python",
   "pygments_lexer": "ipython3",
   "version": "3.11.3"
  }
 },
 "nbformat": 4,
 "nbformat_minor": 2
}

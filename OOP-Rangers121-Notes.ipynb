{
 "cells": [
  {
   "cell_type": "markdown",
   "metadata": {},
   "source": [
    "# Object-Oriented-Programming (OOP)"
   ]
  },
  {
   "cell_type": "markdown",
   "metadata": {},
   "source": [
    "## Tasks Today:\n",
    "\n",
    "   \n",
    "\n",
    "1) <b>Creating a Class (Initializing/Declaring)</b> <br>\n",
    "2) <b>Using a Class (Instantiating)</b> <br>\n",
    " &nbsp;&nbsp;&nbsp;&nbsp; a) Creating One Instance <br>\n",
    " &nbsp;&nbsp;&nbsp;&nbsp; b) Creating Multiple Instances <br>\n",
    " &nbsp;&nbsp;&nbsp;&nbsp; c) In-Class Exercise #1 - Create a Class 'Car' and instantiate three different makes of cars <br>\n",
    "3) <b>The \\__init\\__() Method</b> <br>\n",
    " &nbsp;&nbsp;&nbsp;&nbsp; a) The 'self' Attribute <br>\n",
    "4) <b>Class Attributes</b> <br>\n",
    " &nbsp;&nbsp;&nbsp;&nbsp; a) Initializing Attributes <br>\n",
    " &nbsp;&nbsp;&nbsp;&nbsp; b) Setting an Attribute Outside of the \\__init\\__() Method <br>\n",
    " &nbsp;&nbsp;&nbsp;&nbsp; c) Setting Defaults for Attributes <br>\n",
    " &nbsp;&nbsp;&nbsp;&nbsp; d) Accessing Class Attributes <br>\n",
    " &nbsp;&nbsp;&nbsp;&nbsp; e) Changing Class Attributes <br>\n",
    " &nbsp;&nbsp;&nbsp;&nbsp; f) In-Class Exercise #2 - Add a color and wheels attribute to your 'Car' class <br>\n",
    "5) <b>Class Methods</b> <br>\n",
    " &nbsp;&nbsp;&nbsp;&nbsp; a) Creating <br>\n",
    " &nbsp;&nbsp;&nbsp;&nbsp; b) Calling <br>\n",
    " &nbsp;&nbsp;&nbsp;&nbsp; c) Modifying an Attribute's Value Through a Method <br>\n",
    " &nbsp;&nbsp;&nbsp;&nbsp; d) Incrementing an Attribute's Value Through a Method <br>\n",
    " &nbsp;&nbsp;&nbsp;&nbsp; e) In-Class Exercise #3 - Add a method that prints the cars color and wheel number, then call them <br>\n",
    "6) <b>Inheritance</b> <br>\n",
    " &nbsp;&nbsp;&nbsp;&nbsp; a) Syntax for Inheriting from a Parent Class <br>\n",
    " &nbsp;&nbsp;&nbsp;&nbsp; b) The \\__init\\__() Method for a Child Class (super()) <br>\n",
    " &nbsp;&nbsp;&nbsp;&nbsp; c) Defining Attributes and Methods for the Child Class <br>\n",
    " &nbsp;&nbsp;&nbsp;&nbsp; d) Method Overriding <br>\n",
    " &nbsp;&nbsp;&nbsp;&nbsp; e) In-Class Exercise #4 - Create a class 'Ford' that inherits from 'Car' class and initialize it as a Blue Ford Explorer with 4 wheels using the super() method <br>\n",
    "7) <b>Classes as Attributes</b> <br>\n",
    "8) <b>Exercises</b> <br>\n",
    " &nbsp;&nbsp;&nbsp;&nbsp; a) Exercise #1 - Turn the shopping cart program from last week into an object-oriented program <br>"
   ]
  },
  {
   "cell_type": "markdown",
   "metadata": {},
   "source": [
    "## Creating a Class (Initializing/Declaring)\n",
    "<p>When creating a class, function, or even a variable you are initializing that object. Initializing and Declaring occur at the same time in Python, whereas in lower level languages you have to declare an object before initializing it. This is the first step in the process of using a class.</p>"
   ]
  },
  {
   "cell_type": "code",
   "execution_count": 1,
   "metadata": {},
   "outputs": [],
   "source": [
    "class Car:\n",
    "    wheels = 4\n",
    "    color = \"blue\""
   ]
  },
  {
   "cell_type": "markdown",
   "metadata": {},
   "source": [
    "## Using a Class (Instantiating)\n",
    "<p>The process of creating a class is called <i>Instantiating</i>. Each time you create a variable of that type of class, it is referred to as an <i>Instance</i> of that class. This is the second step in the process of using a class.</p>"
   ]
  },
  {
   "cell_type": "markdown",
   "metadata": {},
   "source": [
    "##### Creating One Instance"
   ]
  },
  {
   "cell_type": "code",
   "execution_count": 8,
   "metadata": {},
   "outputs": [
    {
     "name": "stdout",
     "output_type": "stream",
     "text": [
      "4\n",
      "blue\n"
     ]
    }
   ],
   "source": [
    "ford = Car()\n",
    "print(ford.wheels)\n",
    "print(ford.color)"
   ]
  },
  {
   "cell_type": "markdown",
   "metadata": {},
   "source": [
    "##### Creating Multiple Instances"
   ]
  },
  {
   "cell_type": "code",
   "execution_count": 9,
   "metadata": {},
   "outputs": [
    {
     "name": "stdout",
     "output_type": "stream",
     "text": [
      "blue\n",
      "blue\n",
      "blue\n"
     ]
    }
   ],
   "source": [
    "mazda = Car()\n",
    "honda = Car()\n",
    "toyota = Car()\n",
    "\n",
    "print(mazda.color)\n",
    "print(honda.color)\n",
    "print(toyota.color)\n"
   ]
  },
  {
   "cell_type": "markdown",
   "metadata": {},
   "source": [
    "##### In-Class Exercise #1 - Create a Class 'Car' and Instantiate three different makes of cars"
   ]
  },
  {
   "cell_type": "code",
   "execution_count": 19,
   "metadata": {},
   "outputs": [
    {
     "name": "stdout",
     "output_type": "stream",
     "text": [
      "2023\n"
     ]
    }
   ],
   "source": [
    "class Car:\n",
    "    color = \"white\"\n",
    "    year = 2023\n",
    "    \n",
    "Honda = Car()\n",
    "Toyota = Car()\n",
    "Mazda = Car()\n",
    "\n",
    "print(Honda.year)"
   ]
  },
  {
   "cell_type": "markdown",
   "metadata": {},
   "source": [
    "## The \\__init\\__() Method <br>\n",
    "<p>This method is used in almost every created class, and called only once upon the creation of the class instance. This method will initialize all variables needed for the object.</p>"
   ]
  },
  {
   "cell_type": "code",
   "execution_count": 24,
   "metadata": {},
   "outputs": [
    {
     "name": "stdout",
     "output_type": "stream",
     "text": [
      "blue\n",
      "4\n",
      "4\n",
      "red\n",
      "4\n",
      "6\n"
     ]
    }
   ],
   "source": [
    "class Car():\n",
    "    def __init__(self, wheels, color, doors):\n",
    "        self.wheels = wheels\n",
    "        self.color = color\n",
    "        self.doors = doors\n",
    "        \n",
    "mazda = Car(4, \"blue\", 4)\n",
    "print(mazda.color)\n",
    "print(mazda.wheels)\n",
    "print(mazda.doors)\n",
    "\n",
    "honda = Car(4, \"red\", 6)\n",
    "print(honda.color)\n",
    "print(honda.wheels)\n",
    "print(honda.doors)"
   ]
  },
  {
   "cell_type": "markdown",
   "metadata": {},
   "source": [
    "##### The 'self' Attribute <br>\n",
    "<p>This attribute is required to keep track of specific instance's attributes. Without the self attribute, the program would not know how to reference or keep track of an instance's attributes.</p>"
   ]
  },
  {
   "cell_type": "code",
   "execution_count": 35,
   "metadata": {},
   "outputs": [
    {
     "name": "stdout",
     "output_type": "stream",
     "text": [
      "Charmander\n",
      "fire\n",
      "Squirtle\n",
      "water\n"
     ]
    }
   ],
   "source": [
    "class Pokemon():\n",
    "    def __init__(self, name, type_):\n",
    "        # self is going to reference back to the object/instance of our class\n",
    "        self.name = name\n",
    "        self.type_ = type_\n",
    "#         print(self.name)\n",
    "#         print(self.type_)\n",
    "        \n",
    "    def print_info(self):\n",
    "        print(f\"This is {self.name}. It is a {self.type_} pokemon.\")\n",
    "        \n",
    "charmander = Pokemon(\"Charmander\", \"fire\")\n",
    "squirtle = Pokemon(\"Squirtle\", \"water\")\n",
    "\n",
    "# print(charmander.name)\n",
    "# print(squirtle.name)\n",
    "\n",
    "# charmander.print_info()\n",
    "# squirtle.print_info()"
   ]
  },
  {
   "cell_type": "markdown",
   "metadata": {},
   "source": [
    "## Class Attributes <br>\n",
    "<p>While variables are inside of a class, they are referred to as attributes and not variables. When someone says 'attribute' you know they're speaking about a class. Attributes can be initialized through the init method, or outside of it.</p>"
   ]
  },
  {
   "cell_type": "markdown",
   "metadata": {},
   "source": [
    "##### Initializing Attributes"
   ]
  },
  {
   "cell_type": "code",
   "execution_count": 36,
   "metadata": {},
   "outputs": [
    {
     "name": "stdout",
     "output_type": "stream",
     "text": [
      "This is Bulbasaur. It is a grass pokemon.\n"
     ]
    }
   ],
   "source": [
    "class Pokemon():\n",
    "    def __init__(self, name, type_):\n",
    "        # self is going to reference back to the object/instance of our class\n",
    "        self.name = name\n",
    "        self.type_ = type_\n",
    "#         print(self.name)\n",
    "#         print(self.type_)\n",
    "        \n",
    "    def print_info(self):\n",
    "        print(f\"This is {self.name}. It is a {self.type_} pokemon.\")\n",
    "        \n",
    "bulbasaur = Pokemon(\"Bulbasaur\", \"grass\")\n",
    "bulbasaur.print_info()"
   ]
  },
  {
   "cell_type": "markdown",
   "metadata": {},
   "source": [
    "##### Accessing Class Attributes"
   ]
  },
  {
   "cell_type": "code",
   "execution_count": 60,
   "metadata": {
    "scrolled": true
   },
   "outputs": [
    {
     "name": "stdout",
     "output_type": "stream",
     "text": [
      "Bulbasaur\n",
      "grass\n",
      "{'name': 'Bulbasaur', 'type_': 'grass'}\n",
      "Bulbasaur\n"
     ]
    }
   ],
   "source": [
    "print(bulbasaur.name)\n",
    "print(bulbasaur.type_)\n",
    "\n",
    "#__dict__\n",
    "print(bulbasaur.__dict__)\n"
   ]
  },
  {
   "cell_type": "markdown",
   "metadata": {},
   "source": [
    "##### Setting Defaults for Attributes"
   ]
  },
  {
   "cell_type": "code",
   "execution_count": 61,
   "metadata": {
    "scrolled": true
   },
   "outputs": [
    {
     "name": "stdout",
     "output_type": "stream",
     "text": [
      "4\n",
      "Blue\n"
     ]
    }
   ],
   "source": [
    "class Car():\n",
    "    def __init__(self, wheels):\n",
    "        self.wheels = wheels\n",
    "        self.color = \"Blue\"\n",
    "        \n",
    "honda = Car(4)\n",
    "print(honda.wheels)\n",
    "print(honda.color)"
   ]
  },
  {
   "cell_type": "markdown",
   "metadata": {},
   "source": [
    "##### Changing Class Attributes <br>\n",
    "<p>Keep in mind there are global class attributes and then there are attributes only available to each class instance which won't effect other classes.</p>"
   ]
  },
  {
   "cell_type": "code",
   "execution_count": 67,
   "metadata": {},
   "outputs": [
    {
     "name": "stdout",
     "output_type": "stream",
     "text": [
      "Before attribute change Red\n",
      "After attribute change orange\n"
     ]
    }
   ],
   "source": [
    "class Car():\n",
    "    def __init__(self, wheels):\n",
    "        self.wheels = wheels\n",
    "        self.color = \"Red\"\n",
    "# ford = Car(4)\n",
    "# mazda = Car(4,\"Blue\")\n",
    "# print(ford.wheels)\n",
    "# print(ford.color)\n",
    "# print(mazda.wheels)\n",
    "# print(mazda.color)\n",
    "subaru = Car(4)\n",
    "print(f\"Before attribute change {subaru.color}\")\n",
    "subaru.color = \"orange\"\n",
    "print(f\"After attribute change {subaru.color}\")"
   ]
  },
  {
   "cell_type": "markdown",
   "metadata": {},
   "source": [
    "##### In-Class Exercise #2 - Add two new attributes to your 'Car' class then print out two different instances with different doors and seats. Then take that bad boy to the shop and change those attributes. Either with an input or just by changing them"
   ]
  },
  {
   "cell_type": "code",
   "execution_count": 79,
   "metadata": {},
   "outputs": [
    {
     "name": "stdout",
     "output_type": "stream",
     "text": [
      "Telsa has 4 doors and 5 seats before changing attributes.\n",
      "Jeep has 4 doors and 6 seats before changing attributes.\n",
      "\n",
      "\n",
      "Telsa has 4 doors and 7 seats after changing attributes.\n",
      "Jeep has 4 doors and 10 seats after changing attributes.\n"
     ]
    }
   ],
   "source": [
    "class Car():\n",
    "    def __init__(self, name, doors, seats):\n",
    "        self.name = name\n",
    "        self.doors = doors\n",
    "        self.seats = seats\n",
    "        print(f\"{name} has {doors} doors and {seats} seats before changing attributes.\")\n",
    "        \n",
    "    def after_change(self):\n",
    "        return(f\"{self.name} has {self.doors} doors and {self.seats} seats after changing attributes.\")\n",
    "\n",
    "tesla = Car(\"Telsa\", 4, 5)\n",
    "jeep = Car(\"Jeep\", 4, 6)\n",
    "print(\"\\n\")\n",
    "tesla.seats = 7\n",
    "jeep.seats = 10\n",
    "print(tesla.after_change())\n",
    "print(jeep.after_change())"
   ]
  },
  {
   "cell_type": "markdown",
   "metadata": {},
   "source": [
    "## Class Methods <br>\n",
    "<p>While inside of a class, functions are referred to as 'methods'. If you hear someone mention methods, they're speaking about classes. Methods are essentially functions, but only callable on the instances of a class.</p>"
   ]
  },
  {
   "cell_type": "markdown",
   "metadata": {},
   "source": [
    "##### Creating"
   ]
  },
  {
   "cell_type": "code",
   "execution_count": 83,
   "metadata": {},
   "outputs": [],
   "source": [
    "class Bus():\n",
    "    def __init__(self, doors, seats, ava_seats, color, driver):\n",
    "        self.doors = doors\n",
    "        self.seats = seats\n",
    "        self.ava_seats = ava_seats\n",
    "        self.color = color\n",
    "        self.driver = driver   \n",
    "        \n",
    "    #decrement the number of seats available\n",
    "    def load_passenger(self):\n",
    "        if self.ava_seats <= 0:\n",
    "            print(\"This bus is full! You can't take anymore passengers!\")\n",
    "            if self.ava_seats < 0:\n",
    "                print(f\"You left {abs(self.ava_seats)} by the road!\")\n",
    "                self.ava_seats = 0\n",
    "        else:\n",
    "            passengers = int(input(\"How many passengers are getting on?: \"))\n",
    "            self.ava_seats -= passengers\n",
    "            if self.ava_seats < 0:\n",
    "                print(f\"You left {abs(self.ava_seats)} by the road!\")\n",
    "                self.ava_seats = 0\n",
    "            print(f\"{passengers} passengers have boarded. There are {self.ava_seats} seats left on the bus!\")\n",
    "    \n",
    "    #increment the number of seats available\n",
    "    def unload_passenger(self):\n",
    "        if self.ava_seats >= self.seats:\n",
    "            print(\"There is no one left to get off the bus!\")\n",
    "        else:\n",
    "            unload = int(input(\"How many passengers are getting off the bus?: \"))\n",
    "            self.ava_seats += unload\n",
    "            if self.ava_seats >= self.seats:\n",
    "                self.ava_seats = self.seats\n",
    "                \n",
    "            print(f\"{unload} passengers have got off the bus! There are {self.ava_seats} left.\")\n",
    "            \n",
    "    #change the bus driver attribute\n",
    "    def change_driver(self):\n",
    "        change = input(\"Who is replacing you?: \")\n",
    "        self.driver = change\n",
    "        print(f\"The new bus driver is {self.driver}. Be sure to thank them!\")\n",
    "        \n",
    "    #display available seats\n",
    "    def check_seats(self):\n",
    "        print(f\"There are {self.ava_seats} seats available\")\n",
    "    \n",
    "    #display bus color\n",
    "    def admire_bus(self):\n",
    "        print(f\"Would ya just look at that beautiful {self.color} bus!\")\n",
    "            "
   ]
  },
  {
   "cell_type": "markdown",
   "metadata": {},
   "source": [
    "##### Calling"
   ]
  },
  {
   "cell_type": "code",
   "execution_count": 84,
   "metadata": {},
   "outputs": [
    {
     "name": "stdout",
     "output_type": "stream",
     "text": [
      "What would you like to do? (Load/Unload/Change Driver/Check Seats/Admire/Quit): load\n",
      "How many passengers are getting on?: 20\n",
      "20 passengers have boarded. There are 25 seats left on the bus!\n",
      "What would you like to do? (Load/Unload/Change Driver/Check Seats/Admire/Quit): load\n",
      "How many passengers are getting on?: 30\n",
      "You left 5 by the road!\n",
      "30 passengers have boarded. There are 0 seats left on the bus!\n",
      "What would you like to do? (Load/Unload/Change Driver/Check Seats/Admire/Quit): unload\n",
      "How many passengers are getting off the bus?: 40\n",
      "40 passengers have got off the bus! There are 40 left.\n",
      "What would you like to do? (Load/Unload/Change Driver/Check Seats/Admire/Quit): unload\n",
      "How many passengers are getting off the bus?: 10\n",
      "10 passengers have got off the bus! There are 50 left.\n",
      "What would you like to do? (Load/Unload/Change Driver/Check Seats/Admire/Quit): admire\n",
      "Would ya just look at that beautiful yellow bus!\n",
      "What would you like to do? (Load/Unload/Change Driver/Check Seats/Admire/Quit): check seats\n",
      "There are 50 seats available\n",
      "What would you like to do? (Load/Unload/Change Driver/Check Seats/Admire/Quit): quit\n",
      "OH NO! There are still passengers to be picked up! Please don't abandon them!\n"
     ]
    }
   ],
   "source": [
    "#instane_variable.method()\n",
    "def run():\n",
    "    nhien_bus = Bus(2, 90, 45, \"yellow\", \"Nhien\")\n",
    "    \n",
    "    while True:\n",
    "        response = input(\"What would you like to do? (Load/Unload/Change Driver/Check Seats/Admire/Quit): \").lower()\n",
    "        if response == \"quit\":\n",
    "            print(\"OH NO! There are still passengers to be picked up! Please don't abandon them!\")\n",
    "            break\n",
    "        elif response == \"load\":\n",
    "            nhien_bus.load_passenger()\n",
    "        elif response == \"unload\":\n",
    "            nhien_bus.unload_passenger()\n",
    "        elif response == \"change driver\":\n",
    "            nhien_bus.change_driver()\n",
    "        elif response == \"check seats\":\n",
    "            nhien_bus.check_seats()\n",
    "        elif response == \"admire\":\n",
    "            nhien_bus.admire_bus()\n",
    "        else:\n",
    "            print(\"That is not a valid response. Please pick from the list\")\n",
    "            \n",
    "            \n",
    "run()"
   ]
  },
  {
   "cell_type": "markdown",
   "metadata": {},
   "source": [
    "##### Modifying an Attribute's Value Through a Method"
   ]
  },
  {
   "cell_type": "code",
   "execution_count": null,
   "metadata": {},
   "outputs": [],
   "source": [
    "# see above\n",
    "# load_passengers()\n",
    "# unload_passengers()\n",
    "# change_driver()"
   ]
  },
  {
   "cell_type": "markdown",
   "metadata": {},
   "source": [
    "##### Incrementing an Attribute's Value Through a Method"
   ]
  },
  {
   "cell_type": "code",
   "execution_count": null,
   "metadata": {},
   "outputs": [],
   "source": [
    "#unload_passengers()"
   ]
  },
  {
   "cell_type": "markdown",
   "metadata": {},
   "source": [
    "##### In-Class Exercise #3 - Add a method that takes in three parameters of year, doors and seats and prints out a formatted print statement with make, model, year, seats, and doors"
   ]
  },
  {
   "cell_type": "code",
   "execution_count": null,
   "metadata": {},
   "outputs": [],
   "source": [
    "# Create class with 2 paramters inside of the __init__ which are make and model, more if you'd like\n",
    "\n",
    "# Create two methods for your class\n",
    "\n",
    "# Create a method that alters an attribute for your class\n",
    "\n",
    "# Display method that prints information about the vehicle\n",
    "\n",
    "# Output: This car is from 2019 and is a Ford Expolorer and has 4 doors and 5 seats\n",
    "\n",
    "# reminder in order to call class methods object.method()\n"
   ]
  },
  {
   "cell_type": "code",
   "execution_count": 116,
   "metadata": {},
   "outputs": [
    {
     "name": "stdout",
     "output_type": "stream",
     "text": [
      "This car is from 2010 and is a Honda and has 4 doors and 5 seats.\n",
      "This car is from 2023 and is a Lamborghini and has 2 doors and 2 seats.\n"
     ]
    }
   ],
   "source": [
    "import datetime\n",
    "from datetime import datetime\n",
    "\n",
    "class Car():\n",
    "    def __init__(self, make, model, doors, seats):\n",
    "        self.make = int(make)\n",
    "        self.model = model\n",
    "        self.doors = doors\n",
    "        self.seats = seats\n",
    "        \n",
    "    def won_lottery(self):\n",
    "        self.make = datetime.now().year\n",
    "        self.model = \"Lamborghini\"\n",
    "        self.doors = 2\n",
    "        self.seats = 2\n",
    "        \n",
    "    def print_out(self):\n",
    "        print(f\"This car is from {self.make} and is a {self.model} and has {self.doors} doors and {self.seats} seats.\")\n",
    "        \n",
    "honda = Car(2010, \"Honda\", 4, 5)\n",
    "honda.print_out()\n",
    "honda.won_lottery()\n",
    "honda.print_out()\n",
    "\n"
   ]
  },
  {
   "cell_type": "markdown",
   "metadata": {},
   "source": [
    "## Inheritance <br>\n",
    "<p>You can create a child-parent relationship between two classes by using inheritance. What this allows you to do is have overriding methods, but also inherit traits from the parent class. Think of it as an actual parent and child, the child will inherit the parent's genes, as will the classes in OOP</p>"
   ]
  },
  {
   "cell_type": "markdown",
   "metadata": {},
   "source": [
    "##### Syntax for Inheriting from a Parent Class"
   ]
  },
  {
   "cell_type": "code",
   "execution_count": 134,
   "metadata": {},
   "outputs": [],
   "source": [
    "# create a parent class\n",
    "class Animal():\n",
    "    acceleration = 9.8\n",
    "    def __init__(self, name, species, legs = 4):\n",
    "        self.name = name\n",
    "        self.species = species\n",
    "        self.legs = legs\n",
    "        \n",
    "    #generic parent method\n",
    "    def make_sound(self):\n",
    "        print(\"WAAAAAHHHHHHHHHHHH\")\n",
    "        \n",
    "#creation child class that inherits from Animal\n",
    "class Dog(Animal): #<-- inherited parent class goes in parentheses\n",
    "    speed = 15\n",
    "    def __init__(self, name, species, legs, color):\n",
    "        super().__init__(name, species) # passes over attribute from the parent class\n",
    "        self.color = color #attribute unique to the child class\n",
    "        \n",
    "    def print_info(self):\n",
    "        print(f\"{self.name} runs at {self.speed} mph and accelerates at {self.acceleration} mps^2\")\n",
    "\n",
    "#creation of the grandchild class\n",
    "class Mutt(Dog):\n",
    "    hypoallergenic = True\n",
    "    \n",
    "    #access the animal init through the dog init\n",
    "    def __init__(self, name, species, eye_color, color, legs = 4):\n",
    "        Dog.__init__(self, name, species, legs)\n",
    "        self.eye_color = eye_color\n",
    "        \n",
    "    def make_sound(self): #override the Animal make_sound method\n",
    "        print(\"rooooooooooooo\")\n",
    "\n",
    "\n",
    "        \n",
    "        "
   ]
  },
  {
   "cell_type": "code",
   "execution_count": 124,
   "metadata": {},
   "outputs": [
    {
     "name": "stdout",
     "output_type": "stream",
     "text": [
      "Jimbo\n",
      "WAAAAAHHHHHHHHHHHH\n",
      "4\n"
     ]
    }
   ],
   "source": [
    "elephant = Animal(\"Jimbo\", \"elephant\")\n",
    "print(elephant.name)\n",
    "elephant.make_sound()\n",
    "print(elephant.legs)"
   ]
  },
  {
   "cell_type": "code",
   "execution_count": 137,
   "metadata": {},
   "outputs": [
    {
     "name": "stdout",
     "output_type": "stream",
     "text": [
      "yellow\n",
      "WAAAAAHHHHHHHHHHHH\n",
      "Chiu runs at 15 mph and accelerates at 9.8 mps^2\n"
     ]
    }
   ],
   "source": [
    "chiu = Dog(\"Chiu\",\"Corgi\", 4, \"yellow\")\n",
    "print(chiu.color)\n",
    "chiu.make_sound()\n",
    "chiu.print_info()"
   ]
  },
  {
   "cell_type": "markdown",
   "metadata": {},
   "source": [
    "##### The \\__init\\__() Method for a Child Class - super()"
   ]
  },
  {
   "cell_type": "code",
   "execution_count": null,
   "metadata": {
    "scrolled": true
   },
   "outputs": [],
   "source": [
    "# See above"
   ]
  },
  {
   "cell_type": "markdown",
   "metadata": {},
   "source": [
    "##### Defining Attributes and Methods for the Child Class"
   ]
  },
  {
   "cell_type": "code",
   "execution_count": null,
   "metadata": {},
   "outputs": [],
   "source": [
    "# See Above"
   ]
  },
  {
   "cell_type": "markdown",
   "metadata": {},
   "source": [
    "##### Method Overriding"
   ]
  },
  {
   "cell_type": "code",
   "execution_count": null,
   "metadata": {},
   "outputs": [],
   "source": [
    "# See Above"
   ]
  },
  {
   "cell_type": "markdown",
   "metadata": {},
   "source": [
    "## Classes as Attributes <br>\n",
    "<p>Classes can also be used as attributes within another class. This is useful in situations where you need to keep variables locally stored, instead of globally stored.</p>"
   ]
  },
  {
   "cell_type": "code",
   "execution_count": 143,
   "metadata": {},
   "outputs": [
    {
     "name": "stdout",
     "output_type": "stream",
     "text": [
      "2023 Tesla Model Y 20\n"
     ]
    }
   ],
   "source": [
    "class Battery():\n",
    "    voltz = 7.8\n",
    "    \n",
    "    def __init__(self,cells):\n",
    "        self.cells = cells\n",
    "        \n",
    "    def __repr__(self):\n",
    "        return str(self.cells)\n",
    "        \n",
    "class Car():\n",
    "    def __init__(self, make, model, year, battery):\n",
    "        self.make = make\n",
    "        self.model = model\n",
    "        self.year = year\n",
    "        self.battery = battery\n",
    "        \n",
    "    def print_info(self):\n",
    "        print(f\"{self.year} {self.make} {self.model} {self.battery}\")\n",
    "        \n",
    "    \n",
    "        \n",
    "batt = Battery(20)\n",
    "\n",
    "my_car = Car(\"Tesla\", \"Model Y\", 2023, batt)\n",
    "\n",
    "my_car.print_info()"
   ]
  },
  {
   "cell_type": "markdown",
   "metadata": {},
   "source": [
    "## Classes as Attributes <br>"
   ]
  },
  {
   "cell_type": "markdown",
   "metadata": {},
   "source": [
    "<b>Generators in classes</b>"
   ]
  },
  {
   "cell_type": "code",
   "execution_count": 157,
   "metadata": {},
   "outputs": [
    {
     "name": "stdout",
     "output_type": "stream",
     "text": [
      "<__main__.Movie object at 0x0000022E3D0ACB50>\n"
     ]
    }
   ],
   "source": [
    "class Movie:\n",
    "    def __init__(self):\n",
    "        self.genres = [\"spooky\", \"adventure\", \"drama\", \"horror\", \"comedy\", \"action\", \"romance\"]\n",
    "        self.generator_object = self.yield_genres()\n",
    "        \n",
    "    def yield_genres(self):\n",
    "        for genre in self.genres:\n",
    "            yield genre\n",
    "    \n",
    "    def show_genres(self):\n",
    "        try:\n",
    "            return next(self.generator_object)\n",
    "        except:\n",
    "            print(\"no more genres\")\n",
    "            \n",
    "my_movie = Movie()          "
   ]
  },
  {
   "cell_type": "code",
   "execution_count": 153,
   "metadata": {},
   "outputs": [
    {
     "name": "stdout",
     "output_type": "stream",
     "text": [
      "no more genres\n"
     ]
    }
   ],
   "source": [
    "my_movie.show_genres()"
   ]
  },
  {
   "cell_type": "markdown",
   "metadata": {},
   "source": [
    "# Exercises"
   ]
  },
  {
   "cell_type": "markdown",
   "metadata": {},
   "source": [
    "### Exercise 1 - Turn the shopping cart program from last week into an object-oriented program\n",
    "\n",
    "The comments in the cell below are there as a guide for thinking about the problem. However, if you feel a different way is best for you and your own thought process, please do what feels best for you by all means."
   ]
  },
  {
   "cell_type": "code",
   "execution_count": 209,
   "metadata": {},
   "outputs": [],
   "source": [
    "# Create a class called cart that retains items and has methods to add, remove, and show\n",
    "\n",
    "class Cart():\n",
    "    def __init__(self):\n",
    "        self.cart = {}\n",
    "\n",
    "    def add_items(self):\n",
    "        name = input(\"Please enter what item(s) do you want to add (you can add multiple items, remember to type ',' between them): \")\n",
    "        for i in name.split(\",\"):\n",
    "            if i not in self.cart:\n",
    "                self.cart[i] = 1\n",
    "            else:\n",
    "                self.cart[i] += 1\n",
    "        print(f\"{name} have been added to your cart!\")\n",
    "         \n",
    "    def remove_items(self):\n",
    "        remove = input(\"Please enter what item(s) do you want to remove: \")\n",
    "        for i in remove.split():\n",
    "            if i not in self.cart:\n",
    "                print(\"Your cart doesn't contain that item(s)! Please try again\")\n",
    "            else:\n",
    "                remove_quantity = input(\"How many of that items you want to remove?: \")\n",
    "                if remove_quantity.isdigit() == False:\n",
    "                    print(\"Please enter a number!\")\n",
    "                    continue\n",
    "                else:\n",
    "                    remove_quantity = int(remove_quantity)\n",
    "                self.cart[i] -= remove_quantity\n",
    "                if self.cart[i] <= 0:\n",
    "                    del self.cart[i]\n",
    "                print(f\"{remove_quantity} of {remove} have been removed from your cart!\")\n",
    "        \n",
    "    def show_items(self):\n",
    "        for keys, values in self.cart.items():\n",
    "            print(f\"Your currently cart: {keys,values}\")"
   ]
  },
  {
   "cell_type": "code",
   "execution_count": 210,
   "metadata": {},
   "outputs": [
    {
     "name": "stdout",
     "output_type": "stream",
     "text": [
      "What would you like to do? Add, Remove, Show or Quit?: add\n",
      "Please enter what item(s) do you want to add (you can add multiple items, remember to type ',' between them): water,coke\n",
      "water,coke have been added to your cart!\n",
      "What would you like to do? Add, Remove, Show or Quit?: remove\n",
      "Please enter what item(s) do you want to remove: water\n",
      "How many of that items you want to remove?: a\n",
      "Please enter a number!\n",
      "What would you like to do? Add, Remove, Show or Quit?: add\n",
      "Please enter what item(s) do you want to add (you can add multiple items, remember to type ',' between them): water,sprite\n",
      "water,sprite have been added to your cart!\n",
      "What would you like to do? Add, Remove, Show or Quit?: remove\n",
      "Please enter what item(s) do you want to remove: water\n",
      "How many of that items you want to remove?: 1\n",
      "1 of water have been removed from your cart!\n",
      "What would you like to do? Add, Remove, Show or Quit?: show\n",
      "Your currently cart: ('water', 1)\n",
      "Your currently cart: ('coke', 1)\n",
      "Your currently cart: ('sprite', 1)\n",
      "What would you like to do? Add, Remove, Show or Quit?: remove\n",
      "Please enter what item(s) do you want to remove: coke\n",
      "How many of that items you want to remove?: a\n",
      "Please enter a number!\n",
      "What would you like to do? Add, Remove, Show or Quit?: remove\n",
      "Please enter what item(s) do you want to remove: coke\n",
      "How many of that items you want to remove?: 1\n",
      "1 of coke have been removed from your cart!\n",
      "What would you like to do? Add, Remove, Show or Quit?: quit\n",
      "Thank you for shopping with us today! Hope to see you again!\n",
      "Your currently cart: ('water', 1)\n",
      "Your currently cart: ('sprite', 1)\n"
     ]
    }
   ],
   "source": [
    "def run():\n",
    "    user_cart = Cart()\n",
    "    \n",
    "    while True:\n",
    "        response = input(\"What would you like to do? Add, Remove, Show or Quit?: \").lower()\n",
    "        \n",
    "        if response == \"quit\":\n",
    "            print(\"Thank you for shopping with us today! Hope to see you again!\")\n",
    "            user_cart.show_items()\n",
    "            break\n",
    "            \n",
    "        elif response == \"add\":\n",
    "            user_cart.add_items()\n",
    "            \n",
    "        elif response == \"remove\":\n",
    "            user_cart.remove_items()\n",
    "            \n",
    "        elif response == \"show\":\n",
    "            user_cart.show_items()\n",
    "            \n",
    "        else:\n",
    "            print(\"That is not a valid response. Please pick from the list!\")\n",
    "            \n",
    "run()"
   ]
  },
  {
   "cell_type": "markdown",
   "metadata": {},
   "source": [
    "### Exercise 2 - Write a Python class which has two methods get_String and print_String. get_String accept a string from the user and print_String print the string in upper case"
   ]
  },
  {
   "cell_type": "code",
   "execution_count": 178,
   "metadata": {},
   "outputs": [
    {
     "name": "stdout",
     "output_type": "stream",
     "text": [
      "Enter a word: abc\n",
      "You have entered 'abc'\n",
      "Here you go: 'ABC'\n"
     ]
    }
   ],
   "source": [
    "class Ex_2():\n",
    "    def __init__(self):\n",
    "        self.user_input = self.get_String()\n",
    "        \n",
    "    def get_String(self):\n",
    "        input_ = input(\"Enter a word: \")\n",
    "        print (f\"You have entered '{input_}'\")\n",
    "        return input_\n",
    "    \n",
    "    def print_String(self):\n",
    "        output = self.user_input.upper()\n",
    "        print (f\"Here you go: '{output}'\")\n",
    "\n",
    "ex2 = Ex_2()\n",
    "ex2.print_String()"
   ]
  }
 ],
 "metadata": {
  "kernelspec": {
   "display_name": "Python 3 (ipykernel)",
   "language": "python",
   "name": "python3"
  },
  "language_info": {
   "codemirror_mode": {
    "name": "ipython",
    "version": 3
   },
   "file_extension": ".py",
   "mimetype": "text/x-python",
   "name": "python",
   "nbconvert_exporter": "python",
   "pygments_lexer": "ipython3",
   "version": "3.11.3"
  }
 },
 "nbformat": 4,
 "nbformat_minor": 2
}

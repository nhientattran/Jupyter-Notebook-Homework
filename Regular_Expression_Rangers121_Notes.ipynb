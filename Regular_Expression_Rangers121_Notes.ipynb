{
 "cells": [
  {
   "cell_type": "markdown",
   "metadata": {},
   "source": [
    "# Regular Expressions"
   ]
  },
  {
   "cell_type": "markdown",
   "metadata": {},
   "source": [
    "# Tasks today:\n",
    "1) <b>Importing</b> <br>\n",
    "2) <b>Using Regular Expressions</b> <br>\n",
    " &nbsp;&nbsp;&nbsp;&nbsp; a) re.compile() <br>\n",
    " &nbsp;&nbsp;&nbsp;&nbsp; b) re.match() <br>\n",
    " &nbsp;&nbsp;&nbsp;&nbsp; c) re.findall() <br>\n",
    " &nbsp;&nbsp;&nbsp;&nbsp; d) re.search() <br>\n",
    "3) <b>Sets</b> <br>\n",
    " &nbsp;&nbsp;&nbsp;&nbsp; a) Integer Ranges <br>\n",
    " &nbsp;&nbsp;&nbsp;&nbsp; b) Character Ranges <br>\n",
    "4) <b>Counting Occurences</b> <br>\n",
    " &nbsp;&nbsp;&nbsp;&nbsp; a) {x} <br>\n",
    " &nbsp;&nbsp;&nbsp;&nbsp; b) {, x} <br>\n",
    " &nbsp;&nbsp;&nbsp;&nbsp; c) {?} <br>\n",
    " &nbsp;&nbsp;&nbsp;&nbsp; d) {*} <br>\n",
    " &nbsp;&nbsp;&nbsp;&nbsp; e) {+} <br>\n",
    "5) <b>In-Class Exercise #1</b> <br>\n",
    "6) <b>Escaping Characters</b> <br>\n",
    "7) <b>Grouping</b> <br>\n",
    "8) <b>In-Class Exercise #2</b> <br>\n",
    "9) <b>Opening a File</b> <br>\n",
    " &nbsp;&nbsp;&nbsp;&nbsp; a) open() <br>\n",
    " &nbsp;&nbsp;&nbsp;&nbsp; b) with open() <br>\n",
    " &nbsp;&nbsp;&nbsp;&nbsp; c) re.match() <br>\n",
    " &nbsp;&nbsp;&nbsp;&nbsp; d) re.search() <br>\n",
    " &nbsp;&nbsp;&nbsp;&nbsp; e) Store the String in a Variable <br>\n",
    "10) <b>Regex Project</b> <br>"
   ]
  },
  {
   "cell_type": "markdown",
   "metadata": {},
   "source": [
    "### Importing <br>\n",
    "<p>Regular Expressions are universal throughout most programming languages... They are generally imported through the module 're'.</p>"
   ]
  },
  {
   "cell_type": "code",
   "execution_count": 1,
   "metadata": {},
   "outputs": [],
   "source": [
    "# import re\n",
    "import re"
   ]
  },
  {
   "cell_type": "markdown",
   "metadata": {},
   "source": [
    "### Using Regular Expressions <br>\n",
    "<p>Regular expressions give us the ability to search for patterns within text, strings, files, etc. They serve several uses, such as; security measures, searching, filtering, pattern recognition, and more...</p>"
   ]
  },
  {
   "cell_type": "markdown",
   "metadata": {},
   "source": [
    "##### re.compile()"
   ]
  },
  {
   "cell_type": "code",
   "execution_count": 3,
   "metadata": {},
   "outputs": [],
   "source": [
    "#using complie, predetermines the string to be used in regular expression methods\n",
    "\n",
    "pattern = re.compile(\"abcd\")"
   ]
  },
  {
   "cell_type": "markdown",
   "metadata": {},
   "source": [
    "##### re.match()"
   ]
  },
  {
   "cell_type": "code",
   "execution_count": 7,
   "metadata": {},
   "outputs": [
    {
     "name": "stdout",
     "output_type": "stream",
     "text": [
      "<re.Match object; span=(0, 4), match='abcd'>\n",
      "(0, 4)\n",
      "None\n"
     ]
    }
   ],
   "source": [
    "#return the first match and then stop\n",
    "#if it doesnt immediately find a match its going to stop searching\n",
    "\n",
    "match = pattern.match(\"abcd123\")\n",
    "print(match)\n",
    "\n",
    "#access the span of the match\n",
    "print(match.span())\n",
    "\n",
    "\n",
    "match2 = pattern.match(\"123abcd\")\n",
    "print(match2)"
   ]
  },
  {
   "cell_type": "markdown",
   "metadata": {},
   "source": [
    "##### re.findall()"
   ]
  },
  {
   "cell_type": "code",
   "execution_count": 9,
   "metadata": {},
   "outputs": [
    {
     "name": "stdout",
     "output_type": "stream",
     "text": [
      "['abcd', 'abcd', 'abcd', 'abcd', 'abcd']\n"
     ]
    }
   ],
   "source": [
    "# return a list of matches\n",
    "pattern = re.compile(\"abcd\")\n",
    "finders = pattern.findall(\"123abcd abcd123 abcdabcd 123abcd123\")\n",
    "print(finders)"
   ]
  },
  {
   "cell_type": "markdown",
   "metadata": {},
   "source": [
    "##### re.search()"
   ]
  },
  {
   "cell_type": "code",
   "execution_count": 16,
   "metadata": {},
   "outputs": [
    {
     "name": "stdout",
     "output_type": "stream",
     "text": [
      "<re.Match object; span=(34, 38), match='abcd'>\n",
      "(34, 38)\n",
      "(34, 38) <class 'tuple'>\n",
      "abcd\n"
     ]
    }
   ],
   "source": [
    "#return the first instance of the patterns\n",
    "#it will search the entirety of the string before giving up\n",
    "\n",
    "pattern = re.compile(\"abcd\")\n",
    "random_string = \"123 123 12234 skjdhhfsjdhfgb 1234 abcd asdygasdashd\"\n",
    "search = pattern.search(random_string)\n",
    "print(search)\n",
    "span = search.span()\n",
    "print(span)\n",
    "\n",
    "print(span,type(span))\n",
    "print(random_string[span[0]:span[1]])"
   ]
  },
  {
   "cell_type": "markdown",
   "metadata": {},
   "source": [
    "### Sets <br>\n",
    "<p>The following cells will allow you to use regular expressions to search for certain values within a range such as numbers 1 through 4.</p>"
   ]
  },
  {
   "cell_type": "markdown",
   "metadata": {},
   "source": [
    "##### [a-z] or [A-Z] - any lowercase/uppercase letters from a to z<br/>[^2] - anything that's not 2"
   ]
  },
  {
   "cell_type": "markdown",
   "metadata": {},
   "source": [
    "##### Integer Ranges"
   ]
  },
  {
   "cell_type": "code",
   "execution_count": 19,
   "metadata": {},
   "outputs": [
    {
     "name": "stdout",
     "output_type": "stream",
     "text": [
      "(2, 5)\n",
      "<re.Match object; span=(2, 5), match='357'>\n"
     ]
    }
   ],
   "source": [
    "pattern = re.compile('[0-4][2-6][5-9]')\n",
    "random_numbers = pattern.search('773579871')\n",
    "span = random_numbers.span()\n",
    "print(span)\n",
    "print(random_numbers)"
   ]
  },
  {
   "cell_type": "code",
   "execution_count": 21,
   "metadata": {},
   "outputs": [
    {
     "name": "stdout",
     "output_type": "stream",
     "text": [
      "<re.Match object; span=(4, 7), match='463'>\n",
      "['463', '425', '900']\n"
     ]
    }
   ],
   "source": [
    "pattern = re.compile('[0-9][0-7][0-5]')\n",
    "more_nums = pattern.search('4789463425900639487')\n",
    "print(more_nums)\n",
    "found_list = pattern.findall('4789463425900639487')\n",
    "print(found_list)"
   ]
  },
  {
   "cell_type": "markdown",
   "metadata": {},
   "source": [
    "##### Character Ranges"
   ]
  },
  {
   "cell_type": "code",
   "execution_count": 23,
   "metadata": {},
   "outputs": [
    {
     "name": "stdout",
     "output_type": "stream",
     "text": [
      "['Hell', 'Name', 'Ryan', 'Resp']\n"
     ]
    }
   ],
   "source": [
    "char_pattern = re.compile('[A-Z][a-z][a-z][a-z]')\n",
    "\n",
    "found = char_pattern.findall(\"Hello my Name is Ryan and I like to party, Responsibly\")\n",
    "\n",
    "print(found)"
   ]
  },
  {
   "cell_type": "code",
   "execution_count": 24,
   "metadata": {},
   "outputs": [
    {
     "name": "stdout",
     "output_type": "stream",
     "text": [
      "['I']\n"
     ]
    }
   ],
   "source": [
    "char_pattern = re.compile('[A-Z]')\n",
    "found = char_pattern.findall(\"I will always hate you\")\n",
    "print(found)"
   ]
  },
  {
   "cell_type": "markdown",
   "metadata": {},
   "source": [
    "### Counting Occurences"
   ]
  },
  {
   "cell_type": "markdown",
   "metadata": {},
   "source": [
    "##### {x} - something that occurs {num_of_times}"
   ]
  },
  {
   "cell_type": "code",
   "execution_count": 27,
   "metadata": {},
   "outputs": [
    {
     "name": "stdout",
     "output_type": "stream",
     "text": [
      "['BB8', 'BB2', 'BB3']\n"
     ]
    }
   ],
   "source": [
    "char_count = re.compile('[A-Z]{2}[0-9]{1}')\n",
    "found_count = char_count.findall('BB8 is pretty cool but I have always prefer BB22 or B3C or B3B0 or BB32')\n",
    "print(found_count)"
   ]
  },
  {
   "cell_type": "code",
   "execution_count": 30,
   "metadata": {},
   "outputs": [
    {
     "name": "stdout",
     "output_type": "stream",
     "text": [
      "['Ryan', 'Alex', 'Marc', 'Kate']\n"
     ]
    }
   ],
   "source": [
    "char_count = re.compile('[A-Z][a-z]{3}')\n",
    "statement = char_count.findall('some people in this class have names with only 4 letters, they are Ryan, Alex, Marc and Kate')\n",
    "print(statement)"
   ]
  },
  {
   "cell_type": "markdown",
   "metadata": {},
   "source": [
    "##### {x, x} - something that occurs between x and x times"
   ]
  },
  {
   "cell_type": "code",
   "execution_count": 31,
   "metadata": {},
   "outputs": [
    {
     "name": "stdout",
     "output_type": "stream",
     "text": [
      "['m', 'm', 'mmmmm', 'm', 'm', 'mm', 'm', 'm', 'mm', 'mmm', 'mmmm', 'mmmmm', 'mmmmm', 'mmmm', 'mmmmm', 'mmmm']\n"
     ]
    }
   ],
   "source": [
    "random_pattern = re.compile('m{1,5}')\n",
    "random_statement = random_pattern.findall(\"This is an example of trying to find between 1 m and 5 mmmmm's. Here are some more mm's for example m mm mmm mmmm mmmmm mmmmmmmmm mmmmmmmmm\")\n",
    "print(random_statement)"
   ]
  },
  {
   "cell_type": "code",
   "execution_count": 33,
   "metadata": {},
   "outputs": [
    {
     "name": "stdout",
     "output_type": "stream",
     "text": [
      "['17732025862', '3462126656']\n"
     ]
    }
   ],
   "source": [
    "potential_phone = re.compile('[0-9]{7,11}')\n",
    "is_there_phone = potential_phone.findall(\"I tried to call your customer service at at 17732025862. Can you have someone call me back at 3462126656\")\n",
    "\n",
    "print(is_there_phone)"
   ]
  },
  {
   "cell_type": "markdown",
   "metadata": {},
   "source": [
    "##### ? - something that occurs 0 or 1 time"
   ]
  },
  {
   "cell_type": "code",
   "execution_count": 38,
   "metadata": {},
   "outputs": [
    {
     "name": "stdout",
     "output_type": "stream",
     "text": [
      "['Hello', 'name', 'like', 'part', 'also', 'here', 'also', 'like', 'part']\n"
     ]
    }
   ],
   "source": [
    "#optional\n",
    "pattern = re.compile('[A-Z]?[a-z]{4}')\n",
    "\n",
    "found_pattern = pattern.findall(\"Hello my name is Ryan and I like to party also Alex is here and may also likes to party...\")\n",
    "print(found_pattern)"
   ]
  },
  {
   "cell_type": "code",
   "execution_count": 39,
   "metadata": {},
   "outputs": [
    {
     "name": "stdout",
     "output_type": "stream",
     "text": [
      "['c3', 'P0', 'R2', 'D2', '1']\n"
     ]
    }
   ],
   "source": [
    "pattern = re.compile('[A-Z]?[a-z]?[0-9]')\n",
    "\n",
    "droind_names = pattern.findall(\"I am c3P0 Human Cybord relations and this is my counterpart R2D2 beep boop also 1\")\n",
    "print(droind_names)"
   ]
  },
  {
   "cell_type": "markdown",
   "metadata": {},
   "source": [
    "#### * - something that occurs at least 0 times"
   ]
  },
  {
   "cell_type": "code",
   "execution_count": 43,
   "metadata": {},
   "outputs": [
    {
     "name": "stdout",
     "output_type": "stream",
     "text": [
      "['Hello', '', 'there', '', '', 'I', '', 'am', '', 'General', '', 'Kenobi', '', '', 'Leader', '', 'of', '', 'the', '', 'Republic', '', 'Army', '', '', 'I', '', 'am', '', 'friend', '', 'with', '', '2', '', 'droids', '']\n"
     ]
    }
   ],
   "source": [
    "pattern = re.compile(\"[A-z]*[0-9]*\")\n",
    "found_pattern = pattern.findall(\"Hello there, I am General Kenobi, Leader of the Republic Army. I am friend with 2 droids\")\n",
    "\n",
    "print(found_pattern)"
   ]
  },
  {
   "cell_type": "markdown",
   "metadata": {},
   "source": [
    "##### + - something that occurs at least once"
   ]
  },
  {
   "cell_type": "code",
   "execution_count": 44,
   "metadata": {},
   "outputs": [
    {
     "name": "stdout",
     "output_type": "stream",
     "text": [
      "['6308528209', '3462126656', '3464048934', '8329051108', '123', '12312513253243']\n"
     ]
    }
   ],
   "source": [
    "pattern = re.compile(\"[0-9]+\")\n",
    "found_pattern = pattern.findall(\"Here are a few phone numbers: 6308528209, 3462126656, 3464048934, 8329051108 123 12312513253243\")\n",
    "\n",
    "print(found_pattern)"
   ]
  },
  {
   "cell_type": "code",
   "execution_count": 46,
   "metadata": {},
   "outputs": [
    {
     "name": "stdout",
     "output_type": "stream",
     "text": [
      "['', '', '', '', '', '', '', '', '', '', '', '', '', '', '', '', '', '', '', '', '', '', '', '', '', '', '', '', '']\n"
     ]
    }
   ],
   "source": [
    "pattern = re.compile(\"[0-9]*\")\n",
    "found_pattern = pattern.findall(\"Here are a few phone numbers\")\n",
    "\n",
    "print(found_pattern)"
   ]
  },
  {
   "cell_type": "markdown",
   "metadata": {},
   "source": [
    "##### In-class exercise 1: \n",
    "\n",
    "Use a regular expression to find a formatted phone number in the string.\n"
   ]
  },
  {
   "cell_type": "code",
   "execution_count": 50,
   "metadata": {},
   "outputs": [
    {
     "name": "stdout",
     "output_type": "stream",
     "text": [
      "['773-202-5863', '630-852-8209']\n"
     ]
    }
   ],
   "source": [
    "phone_string = \"If you need some sweet carpets please call at 773-202-5863 also you can call my parents at 630-852-8209 but you have to travel to 1999\"\n",
    "\n",
    "pattern = re.compile(\"[0-9]{3}[-][0-9]{3}[-][0-9]{4}\")\n",
    "find_phone = pattern.findall(phone_string)\n",
    "print(find_phone)"
   ]
  },
  {
   "cell_type": "markdown",
   "metadata": {},
   "source": [
    "### Escaping Characters"
   ]
  },
  {
   "cell_type": "markdown",
   "metadata": {},
   "source": [
    "##### \\w - look for any Unicode character<br/>\\W - look for anything that isnt a Unicode character\n",
    "\n",
    "[History on Unicode](http://unicode.org/standard/WhatIsUnicode.html)\n",
    "\n",
    "[More on Unicode Characters](https://en.wikipedia.org/wiki/List_of_Unicode_characters)"
   ]
  },
  {
   "cell_type": "code",
   "execution_count": 55,
   "metadata": {},
   "outputs": [
    {
     "name": "stdout",
     "output_type": "stream",
     "text": [
      "['This', 'is', 'a', 'sentence', 'with', 'an', 'exclamation', 'point', 'at', 'the', 'end', 'Also', 'please', 'don', 't', 'forget', 'to', 'floss', 'Between', 'all', '28', '32', 'of', 'your', 'beautiful', 'chompers']\n",
      "[' ', ' ', ' ', ' ', ' ', ' ', ' ', ' ', ' ', ' ', '! ', ', ', ' ', \"'\", ' ', ' ', ' ', '! ', ' ', ' ', '-', ' ', ' ', ' ', ' ']\n"
     ]
    }
   ],
   "source": [
    "pattern_1 = re.compile(\"[\\w]+\")\n",
    "found_1 = pattern_1.findall(\"This is a sentence with an exclamation point at the end! Also, please don't forget to floss! Between all 28-32 of your beautiful chompers\")\n",
    "pattern_2 = re.compile(\"[\\W]+\")\n",
    "found_2 = pattern_2.findall(\"This is a sentence with an exclamation point at the end! Also, please don't forget to floss! Between all 28-32 of your beautiful chompers\")\n",
    "print(found_1)\n",
    "print(found_2)"
   ]
  },
  {
   "cell_type": "markdown",
   "metadata": {},
   "source": [
    "##### \\d - look for any digit 0-9<br/>\\D - look for anything that isnt a digit"
   ]
  },
  {
   "cell_type": "code",
   "execution_count": 60,
   "metadata": {},
   "outputs": [
    {
     "name": "stdout",
     "output_type": "stream",
     "text": [
      "['12th', '13rd', '17th', '21st', '172nd']\n"
     ]
    }
   ],
   "source": [
    "# similar to [0-9] but you cant set range\n",
    "pattern_num = re.compile(\"\\d{1,3}[a-z]{2}\")\n",
    "found_date = pattern_num.findall(\"Today is the 12th, tomorrow will be the 13rd and in 5 days it will be 17th. June 21st is the 172nd day of the year\")\n",
    "\n",
    "print(found_date)"
   ]
  },
  {
   "cell_type": "code",
   "execution_count": 61,
   "metadata": {},
   "outputs": [
    {
     "name": "stdout",
     "output_type": "stream",
     "text": [
      "['Today is the ', 'th, tomorrow will be the ', 'rd and in ', ' days it will be ', 'th. June ', 'st is the ', 'nd day of the year']\n"
     ]
    }
   ],
   "source": [
    "pattern_no_num = re.compile(\"\\D+\")\n",
    "found_date = pattern_no_num.findall(\"Today is the 12th, tomorrow will be the 13rd and in 5 days it will be 17th. June 21st is the 172nd day of the year\")\n",
    "print(found_date)"
   ]
  },
  {
   "cell_type": "markdown",
   "metadata": {},
   "source": [
    "##### \\s - look for any white space<br/>\\S - look for anything that isnt whitespace"
   ]
  },
  {
   "cell_type": "code",
   "execution_count": 66,
   "metadata": {},
   "outputs": [
    {
     "name": "stdout",
     "output_type": "stream",
     "text": [
      "[' ', ' ', ' ', ' ', ' ', ' ', ' ', ' ', ' ', ' ', ' ', ' ', ' ', ' ', ' ', ' ', ' ', ' ', ' ', ' ', ' ', ' ', ' ', ' ', ' ', ' ', ' ', ' ', ' ', ' ', ' ', ' ', ' ', ' ', ' ', ' ', ' ', ' ', ' ', ' ', ' ', ' ', ' ', ' ', ' ', ' ', ' ', ' ', ' ', ' ', ' ']\n",
      "['Are', 'you', 'afraid', 'of', 'the', 'dark?']\n"
     ]
    }
   ],
   "source": [
    "no_space = re.compile(\"\\S+\")\n",
    "\n",
    "space = re.compile(\"\\s\")\n",
    "\n",
    "found_space = space.findall(\"Are            you                  afraid          of the          dark?\")\n",
    "\n",
    "not_space = no_space.findall(\"Are            you                  afraid          of the          dark?\")\n",
    "print(found_space)\n",
    "print(not_space)"
   ]
  },
  {
   "cell_type": "markdown",
   "metadata": {},
   "source": [
    "##### \\b - look for boundaries or edges of a word<br/>\\B - look for anything that isnt a boundary"
   ]
  },
  {
   "cell_type": "code",
   "execution_count": 78,
   "metadata": {},
   "outputs": [
    {
     "name": "stdout",
     "output_type": "stream",
     "text": [
      "[]\n",
      "['cat']\n"
     ]
    }
   ],
   "source": [
    "new_pattern = re.compile(r\"\\bcat\\b\")\n",
    "\n",
    "cat_world = \"certificate\"\n",
    "cat_world2 = \"a black cat\"\n",
    "\n",
    "found_cat = new_pattern.findall(cat_world)\n",
    "found_cat2 = new_pattern.findall(cat_world2)\n",
    "print(found_cat)\n",
    "print(found_cat2)"
   ]
  },
  {
   "cell_type": "code",
   "execution_count": 79,
   "metadata": {},
   "outputs": [
    {
     "name": "stdout",
     "output_type": "stream",
     "text": [
      "['cat']\n",
      "[]\n"
     ]
    }
   ],
   "source": [
    "new_pattern = re.compile(r\"\\Bcat\\B\")\n",
    "\n",
    "cat_world = \"certificate\"\n",
    "cat_world2 = \"a black cat\"\n",
    "\n",
    "found_cat = new_pattern.findall(cat_world)\n",
    "found_cat2 = new_pattern.findall(cat_world2)\n",
    "print(found_cat)\n",
    "print(found_cat2)"
   ]
  },
  {
   "cell_type": "markdown",
   "metadata": {},
   "source": [
    "### Grouping"
   ]
  },
  {
   "cell_type": "code",
   "execution_count": 97,
   "metadata": {},
   "outputs": [
    {
     "name": "stdout",
     "output_type": "stream",
     "text": [
      "[('Max', 'Smith'), ('aaron', 'rodgers'), ('Sam', 'Darnold'), ('LeBron', 'James'), ('Micheal', 'Jordan'), ('Kevin', 'Durant'), ('Patrick', 'McCormick')]\n",
      "Max\n",
      "aaron\n",
      "Sam\n",
      "LeBron\n",
      "Micheal\n",
      "Kevin\n",
      "Patrick\n"
     ]
    }
   ],
   "source": [
    "my_string = \"Max Smith, aaron rodgers, Sam Darnold, LeBron James, Micheal Jordan, Kevin Durant, Patrick McCormick\"\n",
    "#creating our groups in our pattern\n",
    "pattern_name = re.compile(\"([\\w]+) ([\\w]+)\")\n",
    "                         #group 1  #group 2\n",
    "found_names = pattern_name.findall(my_string)\n",
    "print(found_names)\n",
    "\n",
    "for name in my_string.split(','):\n",
    "    match = pattern_name.search(name)\n",
    "    if match:\n",
    "        print(match.group(1))\n",
    "    else:\n",
    "        print(\"Not a valid name\")"
   ]
  },
  {
   "cell_type": "markdown",
   "metadata": {},
   "source": [
    "##### In-class Exercise 2:\n",
    "\n",
    "Write a function using regular expressions to find the domain name in the given email addresses (and return None for the invalid email addresses)<br><b>HINT: Use '|' for either or</b>"
   ]
  },
  {
   "cell_type": "code",
   "execution_count": 106,
   "metadata": {},
   "outputs": [
    {
     "name": "stdout",
     "output_type": "stream",
     "text": [
      "[('jordanw', 'codingtemple', 'org')]\n",
      "None\n",
      "pocohontas1776@gmail.com\n",
      "None\n",
      "yourfavoriteband@g6.org\n",
      "None\n"
     ]
    },
    {
     "data": {
      "text/plain": [
       "'Finished checking emails'"
      ]
     },
     "execution_count": 106,
     "metadata": {},
     "output_type": "execute_result"
    }
   ],
   "source": [
    "my_emails = [\"jordanw@codingtemple.orgcom\", \"pocohontas1776@gmail.com\", \"helloworld@aol..com\",\n",
    "             \"yourfavoriteband@g6.org\", \"@codingtemple.com\"]\n",
    "\n",
    "# You can also use the $ at the end of your compile expression -- this stops the search\n",
    "\n",
    "#.com OR .org => com|org\n",
    "\n",
    "#Expected output:\n",
    "#None\n",
    "#pocohontas1776@gmail.com\n",
    "#None\n",
    "#yourfavoriteband@g6.org\n",
    "#None\n",
    "pattern_email = re.compile(\"([A-z]+[0-9]*)@([A-z0-9]+).(com|org|edu|net|io)\")\n",
    "found_emails = pattern_email.findall(my_emails[0])\n",
    "\n",
    "print(found_emails)\n",
    "\n",
    "def validate_email(email):\n",
    "    pattern_email = re.compile(\"([A-z]+[0-9]*)@([A-z0-9]+).(com|org|edu|net|io)$\")\n",
    "    if pattern_email.match(email):\n",
    "        return email\n",
    "    else:\n",
    "        return None\n",
    "\n",
    "def check_emails(emails):\n",
    "    for email in emails:\n",
    "        print(validate_email(email))\n",
    "    \n",
    "    return \"Finished checking emails\"\n",
    "\n",
    "check_emails(my_emails)"
   ]
  },
  {
   "cell_type": "markdown",
   "metadata": {},
   "source": [
    "### Opening a File <br>\n",
    "<p>Python gives us a couple ways to import files, below are the two used most often.</p>"
   ]
  },
  {
   "cell_type": "markdown",
   "metadata": {},
   "source": [
    "##### open()"
   ]
  },
  {
   "cell_type": "code",
   "execution_count": 113,
   "metadata": {},
   "outputs": [
    {
     "name": "stdout",
     "output_type": "stream",
     "text": [
      "13\n",
      "Hawkins, Derek\tderek@codingtemple.com\t(555) 555-5555\tTeacher, Coding Temple\t@derekhawkins\n",
      "Zhai, Mo\tmozhai@codingtemple.com\t(555) 555-5554\tTeacher, Coding Temple\n",
      "Johnson, Joe\tjoejohnson@codingtemple.com\t\tJohson, Joe\n",
      "Osterberg, Sven-Erik\tgovernor@norrbotten.co.se\t\tGovernor, Norrbotten\t@sverik\n",
      ", Tim\ttim@killerrabbit.com\t\tEnchanter, Killer Rabbit Cave\n",
      "Butz, Ryan\tryanb@codingtemple.com\t(555) 555-5543\tCEO, Coding Temple\t@ryanbutz\n",
      "Doctor, The\tdoctor+companion@tardis.co.uk\t\tTime Lord, Gallifrey\n",
      "Exampleson, Example\tme@example.com\t555-555-5552\tExample, Example Co.\t@example\n",
      "Pael, Ripal\tripalp@codingtemple.com\t(555) 555-5553\tTeacher, Coding Temple\t@ripalp\n",
      "Vader, Darth\tdarth-vader@empire.gov\t(555) 555-4444\tSith Lord, Galactic Empire\t@darthvader\n",
      "Fernandez de la Vega Sanz, Maria Teresa\tmtfvs@spain.gov\t\tFirst Deputy Prime Minister, Spanish Gov\n",
      "hello thereeehello thereeehello\n"
     ]
    }
   ],
   "source": [
    "f = open(\"names.txt\", \"r+\")\n",
    "\n",
    "data = f.read()\n",
    "\n",
    "test = f.write(\"hello thereee\")\n",
    "\n",
    "print(test)\n",
    "\n",
    "\n",
    "data += \"hello\"\n",
    "\n",
    "print(data)\n",
    "\n",
    "#data comes back as a really large string"
   ]
  },
  {
   "cell_type": "markdown",
   "metadata": {},
   "source": [
    "##### with open()"
   ]
  },
  {
   "cell_type": "code",
   "execution_count": 114,
   "metadata": {},
   "outputs": [
    {
     "name": "stdout",
     "output_type": "stream",
     "text": [
      "Hawkins, Derek\tderek@codingtemple.com\t(555) 555-5555\tTeacher, Coding Temple\t@derekhawkins\n",
      "Zhai, Mo\tmozhai@codingtemple.com\t(555) 555-5554\tTeacher, Coding Temple\n",
      "Johnson, Joe\tjoejohnson@codingtemple.com\t\tJohson, Joe\n",
      "Osterberg, Sven-Erik\tgovernor@norrbotten.co.se\t\tGovernor, Norrbotten\t@sverik\n",
      ", Tim\ttim@killerrabbit.com\t\tEnchanter, Killer Rabbit Cave\n",
      "Butz, Ryan\tryanb@codingtemple.com\t(555) 555-5543\tCEO, Coding Temple\t@ryanbutz\n",
      "Doctor, The\tdoctor+companion@tardis.co.uk\t\tTime Lord, Gallifrey\n",
      "Exampleson, Example\tme@example.com\t555-555-5552\tExample, Example Co.\t@example\n",
      "Pael, Ripal\tripalp@codingtemple.com\t(555) 555-5553\tTeacher, Coding Temple\t@ripalp\n",
      "Vader, Darth\tdarth-vader@empire.gov\t(555) 555-4444\tSith Lord, Galactic Empire\t@darthvader\n",
      "Fernandez de la Vega Sanz, Maria Teresa\tmtfvs@spain.gov\t\tFirst Deputy Prime Minister, Spanish Gov\n",
      "hello thereeehello thereeehello thereee\n"
     ]
    }
   ],
   "source": [
    "with open(\"names.txt\") as f:\n",
    "    data = f.read()\n",
    "    print(data)\n",
    "\n",
    "    #data comes back as a really large string"
   ]
  },
  {
   "cell_type": "markdown",
   "metadata": {},
   "source": [
    "##### re.match()"
   ]
  },
  {
   "cell_type": "code",
   "execution_count": 115,
   "metadata": {},
   "outputs": [
    {
     "name": "stdout",
     "output_type": "stream",
     "text": [
      "None\n",
      "<re.Match object; span=(0, 14), match='Hawkins, Derek'>\n",
      "<class 'str'>\n"
     ]
    }
   ],
   "source": [
    "print(re.match(\"Vader, Darth\", data))\n",
    "print(re.match(\"Hawkins, Derek\", data))\n",
    "print(type(data))"
   ]
  },
  {
   "cell_type": "markdown",
   "metadata": {},
   "source": [
    "##### re.search()"
   ]
  },
  {
   "cell_type": "code",
   "execution_count": 116,
   "metadata": {},
   "outputs": [
    {
     "name": "stdout",
     "output_type": "stream",
     "text": [
      "<re.Match object; span=(652, 664), match='Vader, Darth'>\n",
      "<re.Match object; span=(582, 605), match='ripalp@codingtemple.com'>\n"
     ]
    }
   ],
   "source": [
    "print(re.search('Vader, Darth', data))\n",
    "print(re.search(\"ripalp@codingtemple.com\", data))"
   ]
  },
  {
   "cell_type": "markdown",
   "metadata": {},
   "source": [
    "##### Store the String to a Variable"
   ]
  },
  {
   "cell_type": "code",
   "execution_count": 118,
   "metadata": {},
   "outputs": [
    {
     "name": "stdout",
     "output_type": "stream",
     "text": [
      "What would you like to search for? zhai\n",
      "I found your data: <re.Match object; span=(101, 105), match='zhai'>\n",
      "I found your data: ['zhai']\n"
     ]
    }
   ],
   "source": [
    "answer = input(\"What would you like to search for? \")\n",
    "found = re.search(answer, data)\n",
    "found_2 = re.findall(answer,data)\n",
    "if found:\n",
    "    print(f\"I found your data: {found}\")\n",
    "else:\n",
    "    print(\"That person does not exist\")\n",
    "    \n",
    "if found_2:\n",
    "    print(f\"I found your data: {found_2}\")\n",
    "else:\n",
    "    print(\"That person does not exist\")"
   ]
  },
  {
   "cell_type": "markdown",
   "metadata": {},
   "source": [
    "### In-Class Exercise #3 <br>\n",
    "<p>Print each persons name and twitter handle, using groups, should look like:</p>\n",
    "<p>==============<br>\n",
    "   Full Name / Twitter<br>\n",
    "   ==============</p>\n",
    "Derek Hawkins / @derekhawkins\n",
    "\n",
    " Erik Sven-Osterberg / @sverik\n",
    "\n",
    " Ryan Butz / @ryanbutz\n",
    "\n",
    " Example Exampleson / @example\n",
    "\n",
    " Ripal Pael / @ripalp\n",
    "\n",
    " Darth Vader / @darthvader"
   ]
  },
  {
   "cell_type": "code",
   "execution_count": 21,
   "metadata": {
    "scrolled": true
   },
   "outputs": [
    {
     "name": "stdout",
     "output_type": "stream",
     "text": [
      "\n",
      "    ==================\n",
      "    Full Name/ Twitter\n",
      "    ==================\n",
      "    \n",
      "Derek Hawkins / @derekhawkins\n",
      "Sven-Erik Osterberg / @sverik\n",
      "Ryan Butz / @ryanbutz\n",
      "Example Exampleson / @example\n",
      "Ripal Pael / @ripalp\n",
      "Darth Vader / @darthvader\n"
     ]
    }
   ],
   "source": [
    "import re\n",
    "print(\"\"\"\n",
    "    ==================\n",
    "    Full Name/ Twitter\n",
    "    ==================\n",
    "    \"\"\")\n",
    "pattern = re.compile(r\"([\\w\\s\\-]+), ([\\w-]+).*(@[\\w]+)$\")\n",
    "with open(\"names.txt\") as f:\n",
    "    data = f.readlines()\n",
    "    for line in data: \n",
    "        found = pattern.search(line)\n",
    "        if found:\n",
    "            last_name = found.group(1)\n",
    "            first_name = found.group(2)\n",
    "            twitter = found.group(3)\n",
    "            print(f\"{first_name} {last_name} / {twitter}\")\n"
   ]
  },
  {
   "cell_type": "markdown",
   "metadata": {},
   "source": [
    "### Regex project\n",
    "\n",
    "Use python to read the file regex_test.txt and print the last name on each line using regular expressions and groups (return None for names with no first and last name, or names that aren't properly capitalized)\n",
    "##### Hint: use with open() and readlines()"
   ]
  },
  {
   "cell_type": "code",
   "execution_count": null,
   "metadata": {},
   "outputs": [],
   "source": [
    "\"\"\"\n",
    "Expected Output\n",
    "Abraham Lincoln\n",
    "Andrew P Garfield\n",
    "Connor Milliken\n",
    "Jordan Alexander Williams\n",
    "None\n",
    "None\n",
    "\"\"\""
   ]
  },
  {
   "cell_type": "code",
   "execution_count": 3,
   "metadata": {},
   "outputs": [
    {
     "name": "stdout",
     "output_type": "stream",
     "text": [
      "Abraham Lincoln\n",
      "\n",
      "Andrew P Garfield\n",
      "\n",
      "Connor Milliken\n",
      "\n",
      "Jordan Alexander Williams\n",
      "\n",
      "None\n",
      "None\n"
     ]
    }
   ],
   "source": [
    "pattern_name_1 = re.compile(\"([A-Z][\\w]+) ([A-Z][\\w\\s]+)\")\n",
    "pattern_name_2 = re.compile(\"([A-Z][\\w]+) ([A-Z][\\w]*) ([A-Z][\\w]+)\")\n",
    "with open(\"regex_test.txt\") as r:\n",
    "    data = r.readlines()\n",
    "    for line in data:\n",
    "        output_1 = pattern_name_1.search(line)\n",
    "        output_2 = pattern_name_2.search(line)\n",
    "        if output_1 != None:\n",
    "            name_1 = output_1.group(1) + \" \" + output_1.group(2)\n",
    "            print(name_1)\n",
    "        elif output_2:\n",
    "            name_2 = output_2.group(1) + \" \" + output_2.group(2) + \" \" + output_2.group(3)\n",
    "            print(name_2)\n",
    "        else:\n",
    "            print(None)\n",
    "            \n",
    "\n",
    "    "
   ]
  },
  {
   "cell_type": "code",
   "execution_count": null,
   "metadata": {},
   "outputs": [],
   "source": []
  }
 ],
 "metadata": {
  "kernelspec": {
   "display_name": "Python 3 (ipykernel)",
   "language": "python",
   "name": "python3"
  },
  "language_info": {
   "codemirror_mode": {
    "name": "ipython",
    "version": 3
   },
   "file_extension": ".py",
   "mimetype": "text/x-python",
   "name": "python",
   "nbconvert_exporter": "python",
   "pygments_lexer": "ipython3",
   "version": "3.11.3"
  }
 },
 "nbformat": 4,
 "nbformat_minor": 2
}
